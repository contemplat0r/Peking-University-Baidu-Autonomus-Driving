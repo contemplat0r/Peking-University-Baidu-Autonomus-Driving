{
 "cells": [
  {
   "cell_type": "code",
   "execution_count": 1,
   "metadata": {},
   "outputs": [],
   "source": [
    "import numpy as np\n",
    "import torch\n",
    "import math"
   ]
  },
  {
   "cell_type": "code",
   "execution_count": 2,
   "metadata": {},
   "outputs": [],
   "source": [
    "a = np.array(1)\n",
    "b = torch.tensor(1)"
   ]
  },
  {
   "cell_type": "code",
   "execution_count": 3,
   "metadata": {},
   "outputs": [
    {
     "name": "stdout",
     "output_type": "stream",
     "text": [
      "1\n",
      "tensor(1)\n"
     ]
    }
   ],
   "source": [
    "print(a)\n",
    "print(b)"
   ]
  },
  {
   "cell_type": "code",
   "execution_count": 4,
   "metadata": {},
   "outputs": [
    {
     "data": {
      "text/plain": [
       "(numpy.ndarray, torch.Tensor)"
      ]
     },
     "execution_count": 4,
     "metadata": {},
     "output_type": "execute_result"
    }
   ],
   "source": [
    "type(a), type(b)"
   ]
  },
  {
   "cell_type": "code",
   "execution_count": 5,
   "metadata": {},
   "outputs": [
    {
     "name": "stdout",
     "output_type": "stream",
     "text": [
      "2 1\n"
     ]
    }
   ],
   "source": [
    "a = np.array(2)\n",
    "b = np.array(1)\n",
    "print(a, b)"
   ]
  },
  {
   "cell_type": "code",
   "execution_count": 6,
   "metadata": {},
   "outputs": [
    {
     "name": "stdout",
     "output_type": "stream",
     "text": [
      "3\n",
      "-1\n",
      "2\n",
      "2.0\n"
     ]
    }
   ],
   "source": [
    "print(a + b)\n",
    "print(b - a)\n",
    "print(a * b)\n",
    "print(a / b)"
   ]
  },
  {
   "cell_type": "code",
   "execution_count": 7,
   "metadata": {},
   "outputs": [
    {
     "name": "stdout",
     "output_type": "stream",
     "text": [
      "tensor(2) tensor(1)\n"
     ]
    }
   ],
   "source": [
    "a = torch.tensor(2)\n",
    "b = torch.tensor(1)\n",
    "print(a, b)"
   ]
  },
  {
   "cell_type": "code",
   "execution_count": 8,
   "metadata": {},
   "outputs": [
    {
     "name": "stdout",
     "output_type": "stream",
     "text": [
      "tensor(3)\n",
      "tensor(-1)\n",
      "tensor(2)\n",
      "tensor(2)\n"
     ]
    }
   ],
   "source": [
    "print(a + b)\n",
    "print(b - a)\n",
    "print(a * b)\n",
    "print(a / b)"
   ]
  },
  {
   "cell_type": "code",
   "execution_count": 9,
   "metadata": {},
   "outputs": [
    {
     "name": "stdout",
     "output_type": "stream",
     "text": [
      "[[0. 0. 0.]\n",
      " [0. 0. 0.]\n",
      " [0. 0. 0.]]\n",
      "(3, 3)\n"
     ]
    }
   ],
   "source": [
    "a = np.zeros((3, 3))\n",
    "print(a)\n",
    "print(a.shape)"
   ]
  },
  {
   "cell_type": "code",
   "execution_count": 10,
   "metadata": {},
   "outputs": [
    {
     "name": "stdout",
     "output_type": "stream",
     "text": [
      "tensor([[0., 0., 0.],\n",
      "        [0., 0., 0.],\n",
      "        [0., 0., 0.]])\n",
      "torch.Size([3, 3])\n"
     ]
    }
   ],
   "source": [
    "a = torch.zeros((3, 3))\n",
    "print(a)\n",
    "print(a.shape)"
   ]
  },
  {
   "cell_type": "code",
   "execution_count": 11,
   "metadata": {},
   "outputs": [
    {
     "data": {
      "text/plain": [
       "array([[ 0.49671415, -0.1382643 ,  0.64768854],\n",
       "       [ 1.52302986, -0.23415337, -0.23413696],\n",
       "       [ 1.57921282,  0.76743473, -0.46947439]])"
      ]
     },
     "execution_count": 11,
     "metadata": {},
     "output_type": "execute_result"
    }
   ],
   "source": [
    "np.random.seed(42)\n",
    "a = np.random.randn(3, 3)\n",
    "a"
   ]
  },
  {
   "cell_type": "code",
   "execution_count": 12,
   "metadata": {},
   "outputs": [
    {
     "data": {
      "text/plain": [
       "tensor([[ 0.3367,  0.1288,  0.2345],\n",
       "        [ 0.2303, -1.1229, -0.1863],\n",
       "        [ 2.2082, -0.6380,  0.4617]])"
      ]
     },
     "execution_count": 12,
     "metadata": {},
     "output_type": "execute_result"
    }
   ],
   "source": [
    "torch.manual_seed(42)\n",
    "a = torch.randn(3, 3)\n",
    "a"
   ]
  },
  {
   "cell_type": "code",
   "execution_count": 13,
   "metadata": {},
   "outputs": [],
   "source": [
    "a = np.random.randn(3, 3)\n",
    "b = np.random.randn(3, 3)"
   ]
  },
  {
   "cell_type": "code",
   "execution_count": 14,
   "metadata": {},
   "outputs": [
    {
     "name": "stdout",
     "output_type": "stream",
     "text": [
      "[[ 0.54256004 -0.46341769 -0.46572975]\n",
      " [ 0.24196227 -1.91328024 -1.72491783]\n",
      " [-0.56228753 -1.01283112  0.31424733]]\n",
      "[[-0.90802408 -1.4123037   1.46564877]\n",
      " [-0.2257763   0.0675282  -1.42474819]\n",
      " [-0.54438272  0.11092259 -1.15099358]]\n"
     ]
    }
   ],
   "source": [
    "print(a)\n",
    "print(b)"
   ]
  },
  {
   "cell_type": "code",
   "execution_count": 15,
   "metadata": {},
   "outputs": [
    {
     "name": "stdout",
     "output_type": "stream",
     "text": [
      "[[-0.36546403 -1.87572139  0.99991902]\n",
      " [ 0.01618597 -1.84575204 -3.14966602]\n",
      " [-1.10667025 -0.90190853 -0.83674624]] \n",
      "\n",
      "[[ 1.45058412  0.94888601 -1.93137852]\n",
      " [ 0.46773857 -1.98080845 -0.30016965]\n",
      " [-0.0179048  -1.12375371  1.46524091]] \n",
      "\n",
      "[[-0.13449362 -0.84921327  1.99150793]\n",
      " [ 1.15128124 -0.66225694  5.06594361]\n",
      " [ 0.56817306  0.76058322  0.25721662]] \n",
      "\n",
      "[[ -0.59751724   0.32812892  -0.31776355]\n",
      " [ -1.0716903  -28.33305363   1.2106826 ]\n",
      " [  1.0328901   -9.13097254  -0.27302266]] \n",
      "\n"
     ]
    }
   ],
   "source": [
    "print(np.add(a, b), '\\n')\n",
    "print(np.subtract(a, b), '\\n')\n",
    "print(np.dot(a, b), '\\n')\n",
    "print(np.divide(a, b), '\\n')"
   ]
  },
  {
   "cell_type": "code",
   "execution_count": 16,
   "metadata": {},
   "outputs": [
    {
     "name": "stdout",
     "output_type": "stream",
     "text": [
      "[[ 0.54256004 -0.46341769 -0.46572975]\n",
      " [ 0.24196227 -1.91328024 -1.72491783]\n",
      " [-0.56228753 -1.01283112  0.31424733]] \n",
      "\n",
      "[[ 0.54256004  0.24196227 -0.56228753]\n",
      " [-0.46341769 -1.91328024 -1.01283112]\n",
      " [-0.46572975 -1.72491783  0.31424733]] \n",
      "\n"
     ]
    }
   ],
   "source": [
    "print(a, '\\n')\n",
    "print(np.transpose(a), '\\n')"
   ]
  },
  {
   "cell_type": "code",
   "execution_count": 17,
   "metadata": {},
   "outputs": [],
   "source": [
    "a = torch.randn(3, 3)\n",
    "b = torch.randn(3, 3)"
   ]
  },
  {
   "cell_type": "code",
   "execution_count": 18,
   "metadata": {},
   "outputs": [
    {
     "name": "stdout",
     "output_type": "stream",
     "text": [
      "tensor([[-0.4985, -0.2157,  2.1619],\n",
      "        [ 1.7966, -2.0176, -0.1940],\n",
      "        [ 1.2395,  1.3783,  1.3399]]) \n",
      "\n",
      "tensor([[ 1.0332,  1.2855, -0.5432],\n",
      "        [ 0.4240, -1.3620, -1.7839],\n",
      "        [ 0.6765,  1.2660,  0.2945]]) \n",
      "\n",
      "tensor([[ 0.3902, -0.3305,  1.2099],\n",
      "        [-2.2885, -0.3351, -0.3586],\n",
      "        [ 0.4038, -1.1065,  2.7739]]) \n",
      "\n",
      "tensor([[-0.3491, -0.7126,  0.5984],\n",
      "        [ 1.6177,  5.1556, -1.2440],\n",
      "        [ 3.4029, 23.5408,  1.5634]]) \n",
      "\n"
     ]
    }
   ],
   "source": [
    "print(torch.add(a, b), '\\n')\n",
    "print(torch.sub(a, b), '\\n')\n",
    "print(torch.mm(a, b), '\\n')\n",
    "print(torch.div(a, b), '\\n')"
   ]
  },
  {
   "cell_type": "code",
   "execution_count": 19,
   "metadata": {},
   "outputs": [
    {
     "data": {
      "text/plain": [
       "tensor([[ 0.2674,  1.1103,  0.9580],\n",
       "        [ 0.5349, -1.6898,  1.3221],\n",
       "        [ 0.8094, -0.9890,  0.8172]])"
      ]
     },
     "execution_count": 19,
     "metadata": {},
     "output_type": "execute_result"
    }
   ],
   "source": [
    "torch.t(a)"
   ]
  },
  {
   "cell_type": "code",
   "execution_count": 20,
   "metadata": {},
   "outputs": [
    {
     "name": "stdout",
     "output_type": "stream",
     "text": [
      "tensor([[1, 2],\n",
      "        [3, 4]]) \n",
      "\n",
      "tensor([[5, 6],\n",
      "        [7, 8]])\n"
     ]
    }
   ],
   "source": [
    "a = torch.tensor([[1, 2], [3, 4]])\n",
    "b = torch.tensor([[5, 6], [7, 8]])\n",
    "print(a, '\\n')\n",
    "print(b)"
   ]
  },
  {
   "cell_type": "code",
   "execution_count": 21,
   "metadata": {},
   "outputs": [
    {
     "data": {
      "text/plain": [
       "tensor([[1, 2],\n",
       "        [3, 4],\n",
       "        [5, 6],\n",
       "        [7, 8]])"
      ]
     },
     "execution_count": 21,
     "metadata": {},
     "output_type": "execute_result"
    }
   ],
   "source": [
    "torch.cat((a, b))"
   ]
  },
  {
   "cell_type": "code",
   "execution_count": 22,
   "metadata": {},
   "outputs": [
    {
     "data": {
      "text/plain": [
       "tensor([[1, 2, 5, 6],\n",
       "        [3, 4, 7, 8]])"
      ]
     },
     "execution_count": 22,
     "metadata": {},
     "output_type": "execute_result"
    }
   ],
   "source": [
    "torch.cat((a, b), dim=1)"
   ]
  },
  {
   "cell_type": "code",
   "execution_count": 23,
   "metadata": {},
   "outputs": [
    {
     "name": "stdout",
     "output_type": "stream",
     "text": [
      "tensor([[ 0.3367,  0.1288,  0.2345,  0.2303],\n",
      "        [-1.1229, -0.1863,  2.2082, -0.6380]])\n"
     ]
    },
    {
     "data": {
      "text/plain": [
       "torch.Size([2, 4])"
      ]
     },
     "execution_count": 23,
     "metadata": {},
     "output_type": "execute_result"
    }
   ],
   "source": [
    "torch.manual_seed(42)\n",
    "a = torch.randn(2, 4)\n",
    "print(a)\n",
    "a.shape"
   ]
  },
  {
   "cell_type": "code",
   "execution_count": 24,
   "metadata": {},
   "outputs": [
    {
     "name": "stdout",
     "output_type": "stream",
     "text": [
      "tensor([[ 0.3367,  0.1288,  0.2345,  0.2303, -1.1229, -0.1863,  2.2082, -0.6380]])\n"
     ]
    },
    {
     "data": {
      "text/plain": [
       "torch.Size([1, 8])"
      ]
     },
     "execution_count": 24,
     "metadata": {},
     "output_type": "execute_result"
    }
   ],
   "source": [
    "b = a.reshape(1, 8)\n",
    "print(b)\n",
    "b.shape"
   ]
  },
  {
   "cell_type": "code",
   "execution_count": 25,
   "metadata": {},
   "outputs": [
    {
     "name": "stdout",
     "output_type": "stream",
     "text": [
      "[[1 2]\n",
      " [3 4]]\n"
     ]
    },
    {
     "data": {
      "text/plain": [
       "tensor([[1, 2],\n",
       "        [3, 4]])"
      ]
     },
     "execution_count": 25,
     "metadata": {},
     "output_type": "execute_result"
    }
   ],
   "source": [
    "a = np.array([[1, 2], [3, 4]])\n",
    "print(a)\n",
    "tensor = torch.from_numpy(a)\n",
    "tensor"
   ]
  },
  {
   "cell_type": "code",
   "execution_count": 26,
   "metadata": {},
   "outputs": [
    {
     "data": {
      "text/plain": [
       "tensor([[1., 1.],\n",
       "        [1., 1.]], requires_grad=True)"
      ]
     },
     "execution_count": 26,
     "metadata": {},
     "output_type": "execute_result"
    }
   ],
   "source": [
    "a = torch.ones((2, 2), requires_grad=True)\n",
    "a"
   ]
  },
  {
   "cell_type": "code",
   "execution_count": 27,
   "metadata": {},
   "outputs": [
    {
     "name": "stdout",
     "output_type": "stream",
     "text": [
      "tensor([[6., 6.],\n",
      "        [6., 6.]], grad_fn=<AddBackward0>) tensor(6., grad_fn=<MeanBackward0>)\n"
     ]
    }
   ],
   "source": [
    "b = a + 5\n",
    "c = b.mean()\n",
    "print(b, c)"
   ]
  },
  {
   "cell_type": "code",
   "execution_count": 28,
   "metadata": {},
   "outputs": [],
   "source": [
    "a.grad"
   ]
  },
  {
   "cell_type": "code",
   "execution_count": 29,
   "metadata": {},
   "outputs": [],
   "source": [
    "c.backward()"
   ]
  },
  {
   "cell_type": "code",
   "execution_count": 30,
   "metadata": {},
   "outputs": [
    {
     "data": {
      "text/plain": [
       "tensor([[0.2500, 0.2500],\n",
       "        [0.2500, 0.2500]])"
      ]
     },
     "execution_count": 30,
     "metadata": {},
     "output_type": "execute_result"
    }
   ],
   "source": [
    "a.grad"
   ]
  },
  {
   "cell_type": "code",
   "execution_count": 31,
   "metadata": {},
   "outputs": [],
   "source": [
    "from torch import optim"
   ]
  },
  {
   "cell_type": "code",
   "execution_count": 32,
   "metadata": {},
   "outputs": [],
   "source": [
    "# adam\n",
    "## adam = optim.Adam(model.parameters(), lr=learning_rate)\n",
    "\n",
    "# sgd\n",
    "## sgd = optim.SGD(model.parameters(), lr=learning_rate)"
   ]
  },
  {
   "cell_type": "code",
   "execution_count": 33,
   "metadata": {},
   "outputs": [
    {
     "name": "stdout",
     "output_type": "stream",
     "text": [
      "tensor([[1., 0., 1., 0.],\n",
      "        [1., 0., 1., 1.],\n",
      "        [0., 1., 0., 1.]]) \n",
      "\n",
      "tensor([[1.],\n",
      "        [1.],\n",
      "        [0.]])\n",
      "torch.float32\n",
      "torch.float32\n"
     ]
    }
   ],
   "source": [
    "X = torch.tensor([[1., 0., 1., 0.], [1., 0., 1., 1.], [0., 1., 0., 1.]])\n",
    "y = torch.tensor([[1.], [1.], [0.]])\n",
    "\n",
    "print(X, \"\\n\")\n",
    "print(y)\n",
    "print(X.dtype)\n",
    "print(y.dtype)"
   ]
  },
  {
   "cell_type": "code",
   "execution_count": 34,
   "metadata": {},
   "outputs": [
    {
     "data": {
      "text/plain": [
       "torch.Size([3, 4])"
      ]
     },
     "execution_count": 34,
     "metadata": {},
     "output_type": "execute_result"
    }
   ],
   "source": [
    "X.shape"
   ]
  },
  {
   "cell_type": "code",
   "execution_count": 35,
   "metadata": {},
   "outputs": [],
   "source": [
    "def sigmoid(x):\n",
    "    return 1 / (1 + torch.exp(-x))\n",
    "\n",
    "def derivatives_sigmoid(x):\n",
    "    return x * (1 - x)"
   ]
  },
  {
   "cell_type": "code",
   "execution_count": 36,
   "metadata": {},
   "outputs": [],
   "source": [
    "epoch = 7000\n",
    "lr = 1.0\n",
    "input_layer_neurons = X.shape[1]\n",
    "hidden_layer_neurons = 3\n",
    "output_neurons = 1\n",
    "wh = torch.randn(input_layer_neurons, hidden_layer_neurons).type(torch.FloatTensor)\n",
    "#wh = torch.randn(input_layer_neurons, hidden_layer_neurons)\n",
    "#wh = torch.randn(4, hidden_layer_neurons).type(torch.FloatTensor)\n",
    "#wh = torch.randn(input_layer_neurons, hidden_layer_neurons).type(torch.LongTensor)\n",
    "bh = torch.randn(1, hidden_layer_neurons).type(torch.FloatTensor)\n",
    "wout = torch.randn(hidden_layer_neurons, output_neurons)\n",
    "bout = torch.randn(1, output_neurons)"
   ]
  },
  {
   "cell_type": "code",
   "execution_count": 37,
   "metadata": {},
   "outputs": [],
   "source": [
    "for i in range(epoch):\n",
    "    hidden_layer_input1 = torch.mm(X, wh)\n",
    "\n",
    "    hidden_layer_input = hidden_layer_input1 + bh\n",
    "    hidden_layer_activations = sigmoid(hidden_layer_input)\n",
    "    \n",
    "    output_layer_input1 = torch.mm(hidden_layer_activations, wout)\n",
    "    output_layer_input = output_layer_input1 + bout\n",
    "    \n",
    "    output = sigmoid(output_layer_input)\n",
    "    \n",
    "    E = y - output\n",
    "    slope_output_layer = derivatives_sigmoid(output)\n",
    "    slope_hidden_layer = derivatives_sigmoid(hidden_layer_activations)\n",
    "    \n",
    "    d_output = E * slope_output_layer\n",
    "    Error_at_hidden_layer = torch.mm(d_output, wout.t())\n",
    "    d_hidden_layer = Error_at_hidden_layer * slope_hidden_layer\n",
    "    \n",
    "    wout += torch.mm(hidden_layer_activations.t(), d_output) * lr\n",
    "    bout += d_output.sum() * lr\n",
    "    wh += torch.mm(X.t(), d_hidden_layer) * lr\n",
    "    bh += d_output.sum() * lr"
   ]
  },
  {
   "cell_type": "code",
   "execution_count": 38,
   "metadata": {},
   "outputs": [
    {
     "name": "stdout",
     "output_type": "stream",
     "text": [
      "actual :\n",
      " tensor([[1.],\n",
      "        [1.],\n",
      "        [0.]]) \n",
      "\n",
      "predicted :\n",
      " tensor([[0.9957],\n",
      "        [0.9933],\n",
      "        [0.0087]]) \n",
      "\n"
     ]
    }
   ],
   "source": [
    "print(\"actual :\\n\", y, \"\\n\")\n",
    "print(\"predicted :\\n\", output, \"\\n\")"
   ]
  },
  {
   "cell_type": "code",
   "execution_count": 39,
   "metadata": {},
   "outputs": [],
   "source": [
    "import torchvision"
   ]
  },
  {
   "cell_type": "code",
   "execution_count": 40,
   "metadata": {},
   "outputs": [
    {
     "data": {
      "text/plain": [
       "Dataset FashionMNIST\n",
       "    Number of datapoints: 60000\n",
       "    Root location: ../input/fashion-mnist/\n",
       "    Split: Train"
      ]
     },
     "execution_count": 40,
     "metadata": {},
     "output_type": "execute_result"
    }
   ],
   "source": [
    "torchvision.datasets.FashionMNIST('../input/fashion-mnist/', download=True)"
   ]
  },
  {
   "cell_type": "code",
   "execution_count": 41,
   "metadata": {},
   "outputs": [
    {
     "name": "stdout",
     "output_type": "stream",
     "text": [
      "fashion  FashionMNIST  fashion.zip  save\r\n"
     ]
    }
   ],
   "source": [
    "!ls ../input/fashion-mnist"
   ]
  },
  {
   "cell_type": "code",
   "execution_count": 42,
   "metadata": {},
   "outputs": [],
   "source": [
    "fm_dataset = torchvision.datasets.FashionMNIST('../input/fashion-mnist/')"
   ]
  },
  {
   "cell_type": "code",
   "execution_count": 43,
   "metadata": {},
   "outputs": [
    {
     "data": {
      "text/plain": [
       "torchvision.datasets.mnist.FashionMNIST"
      ]
     },
     "execution_count": 43,
     "metadata": {},
     "output_type": "execute_result"
    }
   ],
   "source": [
    "type(fm_dataset)"
   ]
  },
  {
   "cell_type": "code",
   "execution_count": 44,
   "metadata": {},
   "outputs": [
    {
     "data": {
      "text/plain": [
       "torch.Tensor"
      ]
     },
     "execution_count": 44,
     "metadata": {},
     "output_type": "execute_result"
    }
   ],
   "source": [
    "type(fm_dataset.train_data)"
   ]
  },
  {
   "cell_type": "code",
   "execution_count": 45,
   "metadata": {},
   "outputs": [
    {
     "data": {
      "text/plain": [
       "torch.Size([60000, 28, 28])"
      ]
     },
     "execution_count": 45,
     "metadata": {},
     "output_type": "execute_result"
    }
   ],
   "source": [
    "fm_dataset.train_data.shape"
   ]
  },
  {
   "cell_type": "code",
   "execution_count": 46,
   "metadata": {},
   "outputs": [
    {
     "data": {
      "text/plain": [
       "torch.Size([60000])"
      ]
     },
     "execution_count": 46,
     "metadata": {},
     "output_type": "execute_result"
    }
   ],
   "source": [
    "fm_dataset.train_labels.shape"
   ]
  },
  {
   "cell_type": "code",
   "execution_count": 47,
   "metadata": {},
   "outputs": [],
   "source": [
    "import numpy as np\n",
    "import pandas as pd\n",
    "from skimage.io import imread\n",
    "import matplotlib.pyplot as plt\n",
    "from sklearn.model_selection import train_test_split\n",
    "from sklearn.metrics import accuracy_score"
   ]
  },
  {
   "cell_type": "code",
   "execution_count": 48,
   "metadata": {},
   "outputs": [],
   "source": [
    "%matplotlib inline"
   ]
  },
  {
   "cell_type": "code",
   "execution_count": 49,
   "metadata": {},
   "outputs": [],
   "source": [
    "train_x = fm_dataset.train_data / fm_dataset.train_data.max()"
   ]
  },
  {
   "cell_type": "code",
   "execution_count": 50,
   "metadata": {},
   "outputs": [],
   "source": [
    "train_x_0 = train_x.reshape(-1, 28 * 28).type(torch.FloatTensor)"
   ]
  },
  {
   "cell_type": "code",
   "execution_count": 51,
   "metadata": {},
   "outputs": [
    {
     "data": {
      "text/plain": [
       "torch.Tensor"
      ]
     },
     "execution_count": 51,
     "metadata": {},
     "output_type": "execute_result"
    }
   ],
   "source": [
    "type(train_x_0)"
   ]
  },
  {
   "cell_type": "code",
   "execution_count": 52,
   "metadata": {},
   "outputs": [
    {
     "data": {
      "text/plain": [
       "torch.float32"
      ]
     },
     "execution_count": 52,
     "metadata": {},
     "output_type": "execute_result"
    }
   ],
   "source": [
    "train_x_0.dtype"
   ]
  },
  {
   "cell_type": "code",
   "execution_count": 53,
   "metadata": {},
   "outputs": [],
   "source": [
    "train_x = train_x_0"
   ]
  },
  {
   "cell_type": "code",
   "execution_count": 54,
   "metadata": {},
   "outputs": [],
   "source": [
    "train_y = fm_dataset.train_labels"
   ]
  },
  {
   "cell_type": "code",
   "execution_count": 55,
   "metadata": {},
   "outputs": [
    {
     "data": {
      "text/plain": [
       "torch.Tensor"
      ]
     },
     "execution_count": 55,
     "metadata": {},
     "output_type": "execute_result"
    }
   ],
   "source": [
    "type(train_y)"
   ]
  },
  {
   "cell_type": "code",
   "execution_count": 56,
   "metadata": {},
   "outputs": [
    {
     "data": {
      "text/plain": [
       "tensor([9, 0, 0, 3, 0, 2, 7, 2, 5, 5])"
      ]
     },
     "execution_count": 56,
     "metadata": {},
     "output_type": "execute_result"
    }
   ],
   "source": [
    "train_y[:10]"
   ]
  },
  {
   "cell_type": "code",
   "execution_count": 57,
   "metadata": {},
   "outputs": [],
   "source": [
    "train_x, val_x, train_y, val_y = train_test_split(train_x, train_y, test_size = 0.1, stratify = train_y)"
   ]
  },
  {
   "cell_type": "code",
   "execution_count": 58,
   "metadata": {},
   "outputs": [
    {
     "data": {
      "text/plain": [
       "((torch.Size([54000, 784]), torch.Size([54000])),\n",
       " (torch.Size([6000, 784]), torch.Size([6000])))"
      ]
     },
     "execution_count": 58,
     "metadata": {},
     "output_type": "execute_result"
    }
   ],
   "source": [
    "(train_x.shape, train_y.shape), (val_x.shape, val_y.shape)"
   ]
  },
  {
   "cell_type": "code",
   "execution_count": 59,
   "metadata": {},
   "outputs": [],
   "source": [
    "from torch import nn\n",
    "from torch.autograd import Variable\n",
    "from torch.nn import Linear, ReLU, CrossEntropyLoss, Sequential, Conv2d\n",
    "from torch.optim import Adam"
   ]
  },
  {
   "cell_type": "code",
   "execution_count": 74,
   "metadata": {},
   "outputs": [],
   "source": [
    "input_num_units = 28 * 28\n",
    "hidden_num_units = 500\n",
    "output_num_units = 10\n",
    "\n",
    "epochs = 200\n",
    "learning_rate = 0.000008"
   ]
  },
  {
   "cell_type": "code",
   "execution_count": null,
   "metadata": {},
   "outputs": [],
   "source": [
    "#Conv2d?"
   ]
  },
  {
   "cell_type": "markdown",
   "metadata": {},
   "source": [
    "model = Sequential(\n",
    "    Linear(input_num_units, hidden_num_units),\n",
    "    ReLU(),\n",
    "    Linear(hidden_num_units, output_num_units)\n",
    ")"
   ]
  },
  {
   "cell_type": "code",
   "execution_count": 67,
   "metadata": {},
   "outputs": [],
   "source": [
    "class Net(nn.Module):\n",
    "    \n",
    "    def __init__(self, input_num_units, hidden_num_units, output_num_units):\n",
    "        \n",
    "        super(Net, self).__init__()\n",
    "        self.lin_a0 = Linear(input_num_units, input_num_units)\n",
    "        self.lin_a = Linear(input_num_units, input_num_units)\n",
    "        self.lin0 = Linear(input_num_units, hidden_num_units)\n",
    "        self.relu = ReLU()\n",
    "        self.lin1 = Linear(hidden_num_units, hidden_num_units // 2)\n",
    "        self.lin_b = Linear(hidden_num_units, hidden_num_units)\n",
    "        self.lin2 = Linear(hidden_num_units // 2, output_num_units)\n",
    "        self.lin_c = Linear(output_num_units, output_num_units)\n",
    "        self.lin3 = Linear(output_num_units, output_num_units // 2)\n",
    "    \n",
    "    def forward(self, x):\n",
    "        #x = self.lin_a(x)\n",
    "        x = self.lin_a(x)\n",
    "        x = self.lin_a0(x)\n",
    "        #x = self.relu(x)\n",
    "        x = self.lin0(x)\n",
    "        #x = self.relu(x)\n",
    "        #x = self.lin_b(x)\n",
    "        x = self.lin1(x)\n",
    "        #x = self.relu(x)\n",
    "        \n",
    "        x = self.lin2(x)\n",
    "        #x = self.lin3(x)\n",
    "        #x = self.lin_c(x)\n",
    "        return x"
   ]
  },
  {
   "cell_type": "code",
   "execution_count": 68,
   "metadata": {},
   "outputs": [],
   "source": [
    "model = Net(input_num_units, hidden_num_units, output_num_units)"
   ]
  },
  {
   "cell_type": "code",
   "execution_count": 64,
   "metadata": {},
   "outputs": [],
   "source": [
    "loss_fn = CrossEntropyLoss()"
   ]
  },
  {
   "cell_type": "code",
   "execution_count": 75,
   "metadata": {},
   "outputs": [],
   "source": [
    "optimizer = Adam(model.parameters(), lr=learning_rate)"
   ]
  },
  {
   "cell_type": "code",
   "execution_count": 76,
   "metadata": {},
   "outputs": [
    {
     "name": "stdout",
     "output_type": "stream",
     "text": [
      "2 tensor(2.2907)\n",
      "4 tensor(2.2903)\n",
      "6 tensor(2.2899)\n",
      "8 tensor(2.2895)\n",
      "10 tensor(2.2891)\n",
      "12 tensor(2.2887)\n",
      "14 tensor(2.2882)\n",
      "16 tensor(2.2878)\n",
      "18 tensor(2.2873)\n",
      "20 tensor(2.2869)\n",
      "22 tensor(2.2864)\n",
      "24 tensor(2.2859)\n",
      "26 tensor(2.2854)\n",
      "28 tensor(2.2850)\n",
      "30 tensor(2.2845)\n",
      "32 tensor(2.2839)\n",
      "34 tensor(2.2834)\n",
      "36 tensor(2.2830)\n",
      "38 tensor(2.2825)\n",
      "40 tensor(2.2820)\n",
      "42 tensor(2.2814)\n",
      "44 tensor(2.2808)\n",
      "46 tensor(2.2803)\n",
      "48 tensor(2.2797)\n",
      "50 tensor(2.2791)\n",
      "52 tensor(2.2785)\n",
      "54 tensor(2.2779)\n",
      "56 tensor(2.2773)\n",
      "58 tensor(2.2766)\n",
      "60 tensor(2.2760)\n",
      "62 tensor(2.2753)\n",
      "64 tensor(2.2746)\n",
      "66 tensor(2.2740)\n",
      "68 tensor(2.2733)\n",
      "70 tensor(2.2726)\n",
      "72 tensor(2.2718)\n",
      "74 tensor(2.2711)\n",
      "76 tensor(2.2703)\n",
      "78 tensor(2.2696)\n",
      "80 tensor(2.2688)\n",
      "82 tensor(2.2679)\n",
      "84 tensor(2.2671)\n",
      "86 tensor(2.2663)\n",
      "88 tensor(2.2654)\n",
      "90 tensor(2.2645)\n",
      "92 tensor(2.2636)\n",
      "94 tensor(2.2627)\n",
      "96 tensor(2.2617)\n",
      "98 tensor(2.2608)\n",
      "100 tensor(2.2598)\n",
      "102 tensor(2.2588)\n",
      "104 tensor(2.2578)\n",
      "106 tensor(2.2568)\n",
      "108 tensor(2.2557)\n",
      "110 tensor(2.2546)\n",
      "112 tensor(2.2535)\n",
      "114 tensor(2.2524)\n",
      "116 tensor(2.2512)\n",
      "118 tensor(2.2501)\n",
      "120 tensor(2.2489)\n",
      "122 tensor(2.2476)\n",
      "124 tensor(2.2463)\n",
      "126 tensor(2.2450)\n",
      "128 tensor(2.2437)\n",
      "130 tensor(2.2424)\n",
      "132 tensor(2.2411)\n",
      "134 tensor(2.2397)\n",
      "136 tensor(2.2383)\n",
      "138 tensor(2.2368)\n",
      "140 tensor(2.2354)\n",
      "142 tensor(2.2339)\n",
      "144 tensor(2.2324)\n",
      "146 tensor(2.2308)\n",
      "148 tensor(2.2293)\n",
      "150 tensor(2.2277)\n",
      "152 tensor(2.2261)\n",
      "154 tensor(2.2244)\n",
      "156 tensor(2.2228)\n",
      "158 tensor(2.2211)\n",
      "160 tensor(2.2194)\n",
      "162 tensor(2.2176)\n",
      "164 tensor(2.2159)\n",
      "166 tensor(2.2141)\n",
      "168 tensor(2.2122)\n",
      "170 tensor(2.2104)\n",
      "172 tensor(2.2086)\n",
      "174 tensor(2.2067)\n",
      "176 tensor(2.2048)\n",
      "178 tensor(2.2028)\n",
      "180 tensor(2.2009)\n",
      "182 tensor(2.1989)\n",
      "184 tensor(2.1970)\n",
      "186 tensor(2.1951)\n",
      "188 tensor(2.1930)\n",
      "190 tensor(2.1910)\n",
      "192 tensor(2.1890)\n",
      "194 tensor(2.1869)\n",
      "196 tensor(2.1848)\n",
      "198 tensor(2.1827)\n",
      "200 tensor(2.1806)\n"
     ]
    }
   ],
   "source": [
    "train_losses = []\n",
    "val_losses = []\n",
    "\n",
    "for epoch in range(epochs):\n",
    "    avg_cost = 0\n",
    "    \n",
    "    x, y = Variable(train_x), Variable(train_y, requires_grad=False)\n",
    "    x_val, y_val = Variable(val_x), Variable(val_y, requires_grad=False)\n",
    "    \n",
    "    pred = model(x)\n",
    "    pred_val = model(x_val)\n",
    "    \n",
    "    loss = loss_fn(pred, y)\n",
    "    loss_val = loss_fn(pred_val, val_y)\n",
    "    \n",
    "    train_losses.append(loss)\n",
    "    val_losses.append(loss_val)\n",
    "    \n",
    "    loss.backward()\n",
    "    optimizer.step()\n",
    "    \n",
    "    avg_cost = avg_cost + loss.data\n",
    "    if epoch % 2 != 0:\n",
    "        print(epoch + 1, avg_cost)"
   ]
  },
  {
   "cell_type": "code",
   "execution_count": 71,
   "metadata": {},
   "outputs": [
    {
     "data": {
      "image/png": "[encoded data removed]",
      "text/plain": [
       "<Figure size 432x288 with 1 Axes>"
      ]
     },
     "metadata": {
      "needs_background": "light"
     },
     "output_type": "display_data"
    }
   ],
   "source": [
    "plt.plot(train_losses, label=\"Training loss\")\n",
    "plt.plot(val_losses, label=\"Validation loss\")#x = self.relu(x)\n",
    "plt.legend()\n",
    "plt.show()"
   ]
  },
  {
   "cell_type": "code",
   "execution_count": 72,
   "metadata": {},
   "outputs": [
    {
     "data": {
      "text/plain": [
       "0.19368518518518518"
      ]
     },
     "execution_count": 72,
     "metadata": {},
     "output_type": "execute_result"
    }
   ],
   "source": [
    "x, y = Variable(train_x), Variable(train_y, requires_grad=False)\n",
    "\n",
    "pred = model(x)\n",
    "\n",
    "final_pred = np.argmax(pred.data.numpy(), axis=1)\n",
    "\n",
    "accuracy_score(train_y, final_pred)"
   ]
  },
  {
   "cell_type": "code",
   "execution_count": 73,
   "metadata": {},
   "outputs": [
    {
     "data": {
      "text/plain": [
       "0.19233333333333333"
      ]
     },
     "execution_count": 73,
     "metadata": {},
     "output_type": "execute_result"
    }
   ],
   "source": [
    "x, y = Variable(val_x), Variable(val_y, requires_grad=False)\n",
    "\n",
    "pred = model(x)\n",
    "\n",
    "final_pred = np.argmax(pred.data.numpy(), axis=1)\n",
    "\n",
    "accuracy_score(val_y, final_pred)"
   ]
  },
  {
   "cell_type": "code",
   "execution_count": null,
   "metadata": {},
   "outputs": [],
   "source": [
    "#!ls ../input/natural-images/natural_images/airplane/"
   ]
  },
  {
   "cell_type": "code",
   "execution_count": null,
   "metadata": {},
   "outputs": [],
   "source": [
    "import os"
   ]
  },
  {
   "cell_type": "code",
   "execution_count": null,
   "metadata": {},
   "outputs": [],
   "source": [
    "sorted(os.listdir('../input/natural-images/natural_images/airplane/')[:10])"
   ]
  },
  {
   "cell_type": "code",
   "execution_count": null,
   "metadata": {},
   "outputs": [],
   "source": [
    "img_dir = '../input/natural-images/natural_images/airplane/'"
   ]
  },
  {
   "cell_type": "code",
   "execution_count": null,
   "metadata": {},
   "outputs": [],
   "source": [
    "#image_examples = [imread(img_dir + img_file_name) for img_file_name in os.listdir(img_dir)[:10]]\n",
    "image_examples = [imread(img_dir + 'airplane_000{}.jpg'.format(i)) for i in range(10)]"
   ]
  },
  {
   "cell_type": "code",
   "execution_count": null,
   "metadata": {},
   "outputs": [],
   "source": [
    "img0 = image_examples[0]\n",
    "img1 = image_examples[1]\n",
    "img2 = image_examples[2]"
   ]
  },
  {
   "cell_type": "code",
   "execution_count": null,
   "metadata": {},
   "outputs": [],
   "source": [
    "type(img0)"
   ]
  },
  {
   "cell_type": "code",
   "execution_count": null,
   "metadata": {},
   "outputs": [],
   "source": [
    "dir(img0)"
   ]
  },
  {
   "cell_type": "code",
   "execution_count": null,
   "metadata": {},
   "outputs": [],
   "source": [
    "img0.ndim"
   ]
  },
  {
   "cell_type": "code",
   "execution_count": null,
   "metadata": {},
   "outputs": [],
   "source": [
    "print(type(img0.data))\n",
    "print(type(img0.imag))"
   ]
  },
  {
   "cell_type": "code",
   "execution_count": null,
   "metadata": {},
   "outputs": [],
   "source": [
    "img0_f32 = img0.astype('float32')"
   ]
  },
  {
   "cell_type": "code",
   "execution_count": null,
   "metadata": {},
   "outputs": [],
   "source": [
    "type(img0_f32)"
   ]
  },
  {
   "cell_type": "code",
   "execution_count": null,
   "metadata": {},
   "outputs": [],
   "source": [
    "#plt.figure(figsize=(8, 4))\n",
    "plt.imshow(img0)"
   ]
  },
  {
   "cell_type": "code",
   "execution_count": null,
   "metadata": {},
   "outputs": [],
   "source": [
    "#plt.figure(figsize=(30, 15))\n",
    "plt.imshow(img1)"
   ]
  },
  {
   "cell_type": "code",
   "execution_count": null,
   "metadata": {},
   "outputs": [],
   "source": [
    "from skimage import color\n",
    "from skimage.transform import rescale, resize, downscale_local_mean"
   ]
  },
  {
   "cell_type": "code",
   "execution_count": null,
   "metadata": {},
   "outputs": [],
   "source": [
    "img2.shape"
   ]
  },
  {
   "cell_type": "code",
   "execution_count": null,
   "metadata": {},
   "outputs": [],
   "source": [
    "def resize_as_pow_of_2(img):\n",
    "    h = img.shape[0]\n",
    "    w = img.shape[1]\n",
    "    res_h = 2 ** int(math.log2(h))\n",
    "    res_w = 2 ** int(math.log2(w))\n",
    "    return resize(img, (res_h, res_w))"
   ]
  },
  {
   "cell_type": "code",
   "execution_count": null,
   "metadata": {},
   "outputs": [],
   "source": [
    "img0_res = resize_as_pow_of_2(img0)"
   ]
  },
  {
   "cell_type": "code",
   "execution_count": null,
   "metadata": {},
   "outputs": [],
   "source": [
    "img0.shape"
   ]
  },
  {
   "cell_type": "code",
   "execution_count": null,
   "metadata": {},
   "outputs": [],
   "source": [
    "img0_res.shape"
   ]
  },
  {
   "cell_type": "code",
   "execution_count": null,
   "metadata": {},
   "outputs": [],
   "source": [
    "plt.imshow(img0_res)"
   ]
  },
  {
   "cell_type": "markdown",
   "metadata": {},
   "source": [
    "print(2710 // 6)\n",
    "print(3384 // 6)\n",
    "print(3384 / 512)\n",
    "print(int(2710 / 6.609375))"
   ]
  },
  {
   "cell_type": "markdown",
   "metadata": {},
   "source": [
    "print(3384 / 256)\n",
    "print(int(2710 / 13.21875))\n",
    "print(int(3384 // 13.21875))"
   ]
  },
  {
   "cell_type": "markdown",
   "metadata": {},
   "source": [
    "res_h = int(img2.shape[0] / 2)\n",
    "res_w = int(img2.shape[1] / 2)"
   ]
  },
  {
   "cell_type": "markdown",
   "metadata": {},
   "source": [
    "img2 = resize(img2, (res_h, res_w))"
   ]
  },
  {
   "cell_type": "code",
   "execution_count": null,
   "metadata": {},
   "outputs": [],
   "source": [
    "img2 = resize_as_pow_of_2(img2)"
   ]
  },
  {
   "cell_type": "code",
   "execution_count": null,
   "metadata": {},
   "outputs": [],
   "source": [
    "plt.imshow(img2)"
   ]
  },
  {
   "cell_type": "code",
   "execution_count": null,
   "metadata": {},
   "outputs": [],
   "source": [
    "res_h = img2.shape[0]\n",
    "res_w = img2.shape[1]"
   ]
  },
  {
   "cell_type": "code",
   "execution_count": null,
   "metadata": {},
   "outputs": [],
   "source": [
    "img2_torch = torch.from_numpy(img2)"
   ]
  },
  {
   "cell_type": "code",
   "execution_count": null,
   "metadata": {},
   "outputs": [],
   "source": [
    "img2_torch.shape"
   ]
  },
  {
   "cell_type": "code",
   "execution_count": null,
   "metadata": {},
   "outputs": [],
   "source": [
    "img2_torch_sz = img2_torch.squeeze()"
   ]
  },
  {
   "cell_type": "code",
   "execution_count": null,
   "metadata": {},
   "outputs": [],
   "source": [
    "img2_torch_sz.shape"
   ]
  },
  {
   "cell_type": "code",
   "execution_count": null,
   "metadata": {},
   "outputs": [],
   "source": [
    "img2_torch_usz = img2_torch.unsqueeze(0)"
   ]
  },
  {
   "cell_type": "code",
   "execution_count": null,
   "metadata": {},
   "outputs": [],
   "source": [
    "img2_torch_usz.shape"
   ]
  },
  {
   "cell_type": "code",
   "execution_count": null,
   "metadata": {},
   "outputs": [],
   "source": [
    "img2_torch.shape"
   ]
  },
  {
   "cell_type": "code",
   "execution_count": null,
   "metadata": {},
   "outputs": [],
   "source": [
    "img2_torch_view = img2_torch.view(img2_torch.shape[0] * img2_torch.shape[1] * img2_torch.shape[2])"
   ]
  },
  {
   "cell_type": "code",
   "execution_count": null,
   "metadata": {},
   "outputs": [],
   "source": [
    "img2_torch_view.shape"
   ]
  },
  {
   "cell_type": "code",
   "execution_count": null,
   "metadata": {},
   "outputs": [],
   "source": [
    "plt.imshow(img2_torch_view.reshape([res_h, res_w, 3]).numpy())"
   ]
  },
  {
   "cell_type": "code",
   "execution_count": null,
   "metadata": {},
   "outputs": [],
   "source": [
    "plt.imshow(img2_torch_view.view(res_h, res_w, 3).numpy())"
   ]
  },
  {
   "cell_type": "code",
   "execution_count": null,
   "metadata": {},
   "outputs": [],
   "source": [
    "#img1_torch.flatten?"
   ]
  },
  {
   "cell_type": "code",
   "execution_count": null,
   "metadata": {},
   "outputs": [],
   "source": [
    "img2_torch_flt = img2_torch.flatten()"
   ]
  },
  {
   "cell_type": "code",
   "execution_count": null,
   "metadata": {},
   "outputs": [],
   "source": [
    "img2_torch_flt.shape"
   ]
  },
  {
   "cell_type": "code",
   "execution_count": null,
   "metadata": {},
   "outputs": [],
   "source": [
    "plt.imshow(img2_torch_flt.reshape([res_h, res_w, 3]).numpy())"
   ]
  },
  {
   "cell_type": "code",
   "execution_count": null,
   "metadata": {},
   "outputs": [],
   "source": [
    "img2_flt_shape = img2_torch.shape[0] * img2_torch.shape[1] * img2_torch.shape[2]"
   ]
  },
  {
   "cell_type": "code",
   "execution_count": null,
   "metadata": {},
   "outputs": [],
   "source": [
    "input_size = img2_flt_shape\n",
    "output_size = img2_flt_shape // 4"
   ]
  },
  {
   "cell_type": "code",
   "execution_count": null,
   "metadata": {},
   "outputs": [],
   "source": [
    "lin_trans_exp = Sequential(Linear(10, 20),)"
   ]
  },
  {
   "cell_type": "code",
   "execution_count": null,
   "metadata": {},
   "outputs": [],
   "source": [
    "lin_transf1 = Sequential(Linear(input_size, input_size),)"
   ]
  },
  {
   "cell_type": "code",
   "execution_count": null,
   "metadata": {},
   "outputs": [],
   "source": [
    "img2_lin_trans_ident = lin_transf1(img2_torch_flt.type(torch.FloatTensor))"
   ]
  },
  {
   "cell_type": "code",
   "execution_count": null,
   "metadata": {},
   "outputs": [],
   "source": [
    "type(img2_lin_trans_ident)"
   ]
  },
  {
   "cell_type": "code",
   "execution_count": null,
   "metadata": {},
   "outputs": [],
   "source": [
    "img2_lin_trans_ident.shape"
   ]
  },
  {
   "cell_type": "code",
   "execution_count": null,
   "metadata": {},
   "outputs": [],
   "source": [
    "#img3_lin_trans_ident."
   ]
  },
  {
   "cell_type": "code",
   "execution_count": null,
   "metadata": {},
   "outputs": [],
   "source": [
    "plt.imshow(img2_lin_trans_ident.reshape([res_h, res_w, 3]).detach().numpy())"
   ]
  },
  {
   "cell_type": "code",
   "execution_count": null,
   "metadata": {},
   "outputs": [],
   "source": [
    "(img2_torch.T).permute([0, 2, 1]).shape"
   ]
  },
  {
   "cell_type": "code",
   "execution_count": null,
   "metadata": {},
   "outputs": [],
   "source": [
    "class MinModel(nn.Module):\n",
    "    \n",
    "    def __init__(self, input_num_units, output_num_units):\n",
    "        super(MinModel, self).__init__()\n",
    "        self.input_num_units = input_num_units\n",
    "        self.output_num_units = output_num_units\n",
    "        self.lin0 = Linear(input_num_units, output_num_units)\n",
    "        self.relu = ReLU()\n",
    "        self.conv2d0 = Conv2d(in_channels=3, out_channels=6, kernel_size=1)\n",
    "        self.conv2d1 = Conv2d(in_channels=6, out_channels=6, kernel_size=1)\n",
    "        self.conv2d2 = Conv2d(in_channels=6, out_channels=3, kernel_size=1)\n",
    "    \n",
    "    def forward(self, x):\n",
    "        #x = self.lin0(x)\n",
    "        #x = self.relu(x)\n",
    "        x = self.conv2d0(x)\n",
    "        x = self.conv2d1(x)\n",
    "        x = self.conv2d2(x)\n",
    "        return x"
   ]
  },
  {
   "cell_type": "code",
   "execution_count": null,
   "metadata": {},
   "outputs": [],
   "source": [
    "#linear_min_model = MinModel(input_size, int(input_size / 4))\n",
    "#relu_min_model = MinModel(input_size, int(input_size / 4))\n",
    "conv2d_min_model = MinModel(input_size, int(input_size / 4))"
   ]
  },
  {
   "cell_type": "code",
   "execution_count": null,
   "metadata": {},
   "outputs": [],
   "source": [
    "#img2_lin_trans_ident1 = linear_min_model(img2_torch_flt.type(torch.FloatTensor))\n",
    "#img2_relu_trans1 = relu_min_model(img2_torch_flt.type(torch.FloatTensor))\n",
    "img2_conv2d_trans1 = conv2d_min_model((img2_torch.T).permute([0, 2, 1]).unsqueeze(0).type(torch.FloatTensor))"
   ]
  },
  {
   "cell_type": "code",
   "execution_count": null,
   "metadata": {},
   "outputs": [],
   "source": [
    "#plt.imshow(img2_lin_trans_ident1.reshape([int(res_h / 2), int(res_w / 2), 3]).detach().numpy())\n",
    "#plt.imshow(img2_relu_trans1.reshape([int(res_h), int(res_w), 3]).detach().numpy())\n",
    "plt.imshow((img2_conv2d_trans1.squeeze().permute([0, 2, 1]).T).detach().numpy())"
   ]
  },
  {
   "cell_type": "code",
   "execution_count": null,
   "metadata": {},
   "outputs": [],
   "source": []
  }
 ],
 "metadata": {
  "kernelspec": {
   "display_name": "Python 3",
   "language": "python",
   "name": "python3"
  },
  "language_info": {
   "codemirror_mode": {
    "name": "ipython",
    "version": 3
   },
   "file_extension": ".py",
   "mimetype": "text/x-python",
   "name": "python",
   "nbconvert_exporter": "python",
   "pygments_lexer": "ipython3",
   "version": "3.7.5"
  }
 },
 "nbformat": 4,
 "nbformat_minor": 2
}
