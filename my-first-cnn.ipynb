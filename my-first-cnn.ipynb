{
 "cells": [
  {
   "cell_type": "code",
   "execution_count": 95,
   "metadata": {},
   "outputs": [],
   "source": [
    "import importlib\n",
    "import math\n",
    "import time\n",
    "\n",
    "import numpy as np\n",
    "import pandas as pd\n",
    "\n",
    "import skimage\n",
    "from skimage.io import imread\n",
    "from skimage import color\n",
    "from skimage.transform import rescale, resize, downscale_local_mean\n",
    "\n",
    "from sklearn.model_selection import train_test_split\n",
    "from sklearn.metrics import accuracy_score\n",
    "\n",
    "import matplotlib.pyplot as plt\n",
    "\n",
    "import torch\n",
    "import torchvision\n",
    "from torch import nn\n",
    "from torch.autograd import Variable\n",
    "import torch.nn.functional as F\n",
    "from torch.nn import Linear, ReLU, CrossEntropyLoss, Sequential, Conv2d\n",
    "from torch.optim import Adam\n",
    "from torch.utils import data\n",
    "\n",
    "import albumentations as albu\n",
    "\n",
    "import natural_images_dataset_loader\n",
    "from natural_images_dataset_loader import get_dataset_info, get_files_label_map, make_loaders"
   ]
  },
  {
   "cell_type": "code",
   "execution_count": 124,
   "metadata": {},
   "outputs": [],
   "source": [
    "importlib.reload(natural_images_dataset_loader)\n",
    "from natural_images_dataset_loader import get_dataset_info, get_files_label_map, make_loaders"
   ]
  },
  {
   "cell_type": "code",
   "execution_count": 3,
   "metadata": {},
   "outputs": [],
   "source": [
    "%matplotlib inline"
   ]
  },
  {
   "cell_type": "code",
   "execution_count": 4,
   "metadata": {},
   "outputs": [],
   "source": [
    "def imshow(img):\n",
    "    img = img / 2 + 0.5     # unnormalize\n",
    "    npimg = img.numpy()\n",
    "    plt.imshow(np.transpose(npimg, (1, 2, 0)))\n",
    "    plt.show()"
   ]
  },
  {
   "cell_type": "code",
   "execution_count": 57,
   "metadata": {},
   "outputs": [],
   "source": [
    "class NaturalImagesNet(nn.Module):\n",
    "    \n",
    "    def __init__(self, in_channels, classes_num):\n",
    "        super(NaturalImagesNet, self).__init__()\n",
    "        self.in_channels = in_channels\n",
    "        self.conv0 = Conv2d(in_channels=in_channels, out_channels=in_channels, kernel_size=3, stride=1, padding=0)\n",
    "        self.conv1 = Conv2d(in_channels=in_channels, out_channels=2 * in_channels, kernel_size=3, stride=1, padding=0)\n",
    "        self.conv2 = Conv2d(in_channels=2 * in_channels, out_channels=in_channels, kernel_size=5, stride=1, padding=0)\n",
    "        self.relu0 = ReLU()\n",
    "        #self.fc2 = Linear(120 * 120 * in_channels, classes_num)\n",
    "        #self.fc3 = Linear(126 * 126 * in_channels, classes_num) - for minimal net with relu - conv0, relu, fc3\n",
    "        self.fc3 = Linear(120 * 120 * in_channels, classes_num)\n",
    "        ####### Input img size 64x64\n",
    "        #self.fc_out = Linear(62 * 62 * in_channels, classes_num)\n",
    "        #self.fc0 = Linear(2 * 60 * 60 * in_channels, classes_num)\n",
    "        #self.fc1 = Linear(56 * 56 * in_channels, classes_num)\n",
    "        ######################\n",
    "        \n",
    "    def forward(self, x):        \n",
    "        #print(\"forward: x.shape before conv0(x)\", x.shape)\n",
    "        x = self.conv0(x)\n",
    "        x = self.relu0(x)\n",
    "        x = self.conv1(x)\n",
    "        #print(\"x.shape: \", x.shape)\n",
    "        x = self.relu0(x)\n",
    "        #print(\"forward: x.shape after conv0(x)\", x.shape)\n",
    "        #x = x.view(-1, 62 * 62 * self.in_channels)\n",
    "        #x = x.view(-1, 2 * 62 * 62 * self.in_channels)\n",
    "        \n",
    "        x = self.conv2(x)\n",
    "        #print(\"x.shape after self.conv2(x): \", x.shape)\n",
    "        x = self.relu0(x)\n",
    "        \n",
    "        #x = x.view(-1, 2 * 60 * 60 * self.in_channels)        \n",
    "        #x = self.fc0(x)\n",
    "        \n",
    "        #x = x.view(-1, 56 * 56 * self.in_channels)\n",
    "        #x = self.fc1(x)\n",
    "        \n",
    "        #x = x.view(-1, 120 * 120 * self.in_channels)\n",
    "        #x = self.fc2(x)\n",
    "        \n",
    "        #x = x.view(-1, 126 * 126 * self.in_channels)\n",
    "        #x = self.fc3(x)\n",
    " \n",
    "        x = x.view(-1, 120 * 120 * self.in_channels)\n",
    "        x = self.fc3(x)\n",
    "        #x = F.log_softmax(x, dim=1)\n",
    "        #x = F.log_softmax(x)\n",
    "        #x = self.fc_out(x)\n",
    "        #print(\"forward, x after log_softmax:\\n\", x)\n",
    "        return x"
   ]
  },
  {
   "cell_type": "markdown",
   "metadata": {},
   "source": [
    "params = {'batch_size': 4, 'shuffle': True}\n",
    "class_label_map = get_class_label_map('../input/natural-images/natural_images/*')\n",
    "\n",
    "ni_ds_train = NaturalImagesDataset(class_label_map, resize_sizes=(64, 64))\n",
    "ni_train_dataloader = data.DataLoader(ni_ds_train, **params)\n",
    "\n",
    "ni_ds_valid = NaturalImagesDataset(class_label_map, valid=True, resize_sizes=(64, 64))\n",
    "ni_valid_loader = data.DataLoader(ni_ds_valid, **params)"
   ]
  },
  {
   "cell_type": "code",
   "execution_count": 127,
   "metadata": {},
   "outputs": [],
   "source": [
    "dataset_info = get_dataset_info('../input/natural-images/natural_images/*')\n",
    "#print(\"len(dataset_info):\", len(dataset_info))\n",
    "#print(\"type(dataset_info[0][2]): \", type(dataset_info[0][2]))\n",
    "#print(\"dataset_info[0][2][:10]: \", dataset_info[0][2][:10])\n",
    "files_label_map = get_files_label_map(dataset_info)\n",
    "#print(get_files_label_map(dataset_info)[2000:2020])\n",
    "#print(type(make_loaders(files_label_map)))\n",
    "train_dl, valid_dl, test_dl, fl_maps = make_loaders(\n",
    "    files_label_map,\n",
    "    train_test_split_ratio=0.25,\n",
    "    train_valid_split_ratio=0.25,\n",
    "    img_resize_sizes=(128, 128),\n",
    "    transforms=(albu.Compose([albu.RandomRotate90()]), None, None),\n",
    "    #transforms=(albu.RandomRotate90(), None, None),\n",
    "    #transforms=(None, None, None)\n",
    ")\n",
    "#print(type(train_dl), type(valid_dl), type(test_dl))"
   ]
  },
  {
   "cell_type": "code",
   "execution_count": 7,
   "metadata": {},
   "outputs": [
    {
     "name": "stdout",
     "output_type": "stream",
     "text": [
      "8\n"
     ]
    }
   ],
   "source": [
    "classes_num = len(dataset_info)\n",
    "print(classes_num)"
   ]
  },
  {
   "cell_type": "code",
   "execution_count": 8,
   "metadata": {},
   "outputs": [],
   "source": [
    "input_channels = 3"
   ]
  },
  {
   "cell_type": "code",
   "execution_count": 128,
   "metadata": {},
   "outputs": [],
   "source": [
    "learning_rate = 0.0001\n",
    "#learning_rate = 0.001"
   ]
  },
  {
   "cell_type": "code",
   "execution_count": 129,
   "metadata": {},
   "outputs": [
    {
     "name": "stdout",
     "output_type": "stream",
     "text": [
      "__getitem__, self.transforms:  Compose([\n",
      "  RandomRotate90(always_apply=False, p=0.5),\n",
      "], p=1.0, bbox_params=None, keypoint_params=None, additional_targets={})\n",
      "__getitem__, self.transforms:  Compose([\n",
      "  RandomRotate90(always_apply=False, p=0.5),\n",
      "], p=1.0, bbox_params=None, keypoint_params=None, additional_targets={})\n",
      "__getitem__, self.transforms:  Compose([\n",
      "  RandomRotate90(always_apply=False, p=0.5),\n",
      "], p=1.0, bbox_params=None, keypoint_params=None, additional_targets={})\n",
      "__getitem__, self.transforms:  Compose([\n",
      "  RandomRotate90(always_apply=False, p=0.5),\n",
      "], p=1.0, bbox_params=None, keypoint_params=None, additional_targets={})\n"
     ]
    }
   ],
   "source": [
    "#img, label = next(iter(ni_train_dataloader))\n",
    "img, label = next(iter(train_dl))"
   ]
  },
  {
   "cell_type": "code",
   "execution_count": 11,
   "metadata": {},
   "outputs": [
    {
     "name": "stdout",
     "output_type": "stream",
     "text": [
      "torch.Size([4, 3, 128, 128])\n"
     ]
    }
   ],
   "source": [
    "type(img)\n",
    "print(img.shape)"
   ]
  },
  {
   "cell_type": "code",
   "execution_count": 12,
   "metadata": {},
   "outputs": [],
   "source": [
    "device = torch.device(\"cuda:0\" if torch.cuda.is_available() else \"cpu\")"
   ]
  },
  {
   "cell_type": "code",
   "execution_count": 13,
   "metadata": {},
   "outputs": [
    {
     "name": "stdout",
     "output_type": "stream",
     "text": [
      "device:  cuda:0\n"
     ]
    }
   ],
   "source": [
    "print(\"device: \", device)"
   ]
  },
  {
   "cell_type": "code",
   "execution_count": 80,
   "metadata": {},
   "outputs": [],
   "source": [
    "model = NaturalImagesNet(input_channels, classes_num)\n",
    "#model = NaturalImagesNet()"
   ]
  },
  {
   "cell_type": "code",
   "execution_count": 81,
   "metadata": {},
   "outputs": [
    {
     "data": {
      "text/plain": [
       "NaturalImagesNet(\n",
       "  (conv0): Conv2d(3, 3, kernel_size=(3, 3), stride=(1, 1))\n",
       "  (conv1): Conv2d(3, 6, kernel_size=(3, 3), stride=(1, 1))\n",
       "  (conv2): Conv2d(6, 3, kernel_size=(5, 5), stride=(1, 1))\n",
       "  (relu0): ReLU()\n",
       "  (fc3): Linear(in_features=43200, out_features=8, bias=True)\n",
       ")"
      ]
     },
     "execution_count": 81,
     "metadata": {},
     "output_type": "execute_result"
    }
   ],
   "source": [
    "model.to(device)"
   ]
  },
  {
   "cell_type": "code",
   "execution_count": 16,
   "metadata": {},
   "outputs": [],
   "source": [
    "criterion = CrossEntropyLoss()"
   ]
  },
  {
   "cell_type": "code",
   "execution_count": 71,
   "metadata": {},
   "outputs": [],
   "source": [
    "optimizer = Adam(model.parameters(), lr=learning_rate)"
   ]
  },
  {
   "cell_type": "code",
   "execution_count": 82,
   "metadata": {},
   "outputs": [
    {
     "name": "stdout",
     "output_type": "stream",
     "text": [
      "epoch 1, avg train cost: 2021.3375244140625\n",
      "epoch 1, avg val cost: 2.0694375038146973\n",
      "epoch 3, avg train cost: 2021.35546875\n",
      "epoch 3, avg val cost: 2.1064419746398926\n",
      "epoch 5, avg train cost: 2021.3465576171875\n",
      "epoch 5, avg val cost: 2.0935537815093994\n",
      "epoch 7, avg train cost: 2021.3353271484375\n",
      "epoch 7, avg val cost: 2.0713701248168945\n",
      "epoch 9, avg train cost: 2021.34814453125\n",
      "epoch 9, avg val cost: 2.089707851409912\n",
      "epoch 11, avg train cost: 2021.3360595703125\n",
      "epoch 11, avg val cost: 2.0691640377044678\n",
      "epoch 13, avg train cost: 2021.345458984375\n",
      "epoch 13, avg val cost: 2.0891475677490234\n",
      "epoch 15, avg train cost: 2021.349609375\n",
      "epoch 15, avg val cost: 2.098489999771118\n",
      "epoch 17, avg train cost: 2021.344970703125\n",
      "epoch 17, avg val cost: 2.0893850326538086\n",
      "epoch 19, avg train cost: 2021.328125\n",
      "epoch 19, avg val cost: 2.0550365447998047\n",
      "Finished Training\n",
      "Training complete in 22m 59s\n"
     ]
    }
   ],
   "source": [
    "#num_of_epoch = 20\n",
    "#num_of_epoch = 120\n",
    "#num_of_epoch = 60\n",
    "num_of_epoch = 20\n",
    "\n",
    "train_losses = []\n",
    "val_losses = []\n",
    "\n",
    "start_time = time.time()\n",
    "\n",
    "epoch_train_losses = []\n",
    "epoch_val_losses = []\n",
    "\n",
    "for epoch in range(num_of_epoch):\n",
    "    # loop over the dataset multiple times\n",
    "    \n",
    "    avg_train_cost = 0\n",
    "    avg_val_cost = 0\n",
    "    \n",
    "    train_running_loss = 0.0\n",
    "    val_running_loss = 0.0\n",
    "    \n",
    "    one_epoch_train_losses = []\n",
    "    one_epoch_val_losses = []\n",
    "    for i, data in enumerate(train_dl, 0):\n",
    "        # get the inputs; data is a list of [inputs, labels]\n",
    "        inputs, labels = data\n",
    "        inputs, labels = inputs.to(device, dtype=torch.float32), labels.to(device, dtype=torch.long)\n",
    "\n",
    "        # zero the parameter gradients\n",
    "        optimizer.zero_grad()\n",
    "\n",
    "        # forward + backward + optimize\n",
    "        outputs = model(inputs)\n",
    "        \n",
    "        loss = criterion(outputs, labels)\n",
    "        \n",
    "        train_losses.append(loss)\n",
    "        \n",
    "        one_epoch_train_losses.append(loss)\n",
    "        \n",
    "        loss.backward()\n",
    "        optimizer.step()\n",
    "\n",
    "        # print statistics\n",
    "        train_running_loss += loss.item()\n",
    "        \n",
    "        if i % 2000 == 1999:    # print every 2000 mini-batches\n",
    "            print(\"epoch: {}, batch: {} train running loss: {}\".format(epoch, i, train_running_loss / 20))\n",
    "            train_running_loss = 0.0\n",
    "            \n",
    "        avg_train_cost = avg_train_cost + loss.data\n",
    "                \n",
    "    if epoch % 2 != 0:\n",
    "        print(\"epoch {}, avg train cost: {}\".format(epoch, avg_train_cost))\n",
    "        avg_train_cost = 0\n",
    "        \n",
    "    model.eval()\n",
    "    with torch.no_grad():\n",
    "        for i, data in enumerate(valid_dl, 0):\n",
    "            # get the inputs; data is a list of [inputs, labels]\n",
    "            inputs, labels = data\n",
    "            inputs, labels = inputs.to(device, dtype=torch.float32), labels.to(device, dtype=torch.long)\n",
    "                \n",
    "            outputs = model(inputs)\n",
    "                \n",
    "            val_loss = criterion(outputs, labels)\n",
    "            val_losses.append(val_loss)\n",
    "            one_epoch_val_losses.append(val_loss)\n",
    "            val_running_loss += val_loss.item()\n",
    "                \n",
    "            if i % 2000 == 1999:    # print every 2000 mini-batches\n",
    "                print(\"epoch: {}, batch: {} val running loss: {}\".format(epoch, i, val_running_loss / 20))\n",
    "                val_running_loss = 0.0\n",
    "                \n",
    "        avg_val_cost = avg_val_cost + loss.data\n",
    "                \n",
    "        if epoch % 2 != 0:\n",
    "            print(\"epoch {}, avg val cost: {}\".format(epoch, avg_val_cost))\n",
    "            avg_val_cost = 0\n",
    "\n",
    "    epoch_train_losses.append(one_epoch_train_losses)\n",
    "    epoch_val_losses.append(one_epoch_val_losses)\n",
    "\n",
    "    \n",
    "avg_epoch_train_losses = [\n",
    "    sum(one_epoch_train_loss) / len(one_epoch_train_loss) for one_epoch_train_loss in epoch_train_losses\n",
    "]\n",
    "avg_epoch_val_losses = [\n",
    "    sum(one_epoch_val_loss) / len(one_epoch_val_loss) for one_epoch_val_loss in epoch_val_losses\n",
    "]\n",
    "\n",
    "print('Finished Training')\n",
    "time_elapsed = time.time() - start_time\n",
    "print(\n",
    "    'Training complete in {:.0f}m {:.0f}s'.format(\n",
    "        time_elapsed // 60, time_elapsed % 60\n",
    "    )\n",
    ")"
   ]
  },
  {
   "cell_type": "code",
   "execution_count": 83,
   "metadata": {},
   "outputs": [
    {
     "data": {
      "image/png": "[encoded data removed]",
      "text/plain": [
       "<Figure size 1296x1296 with 1 Axes>"
      ]
     },
     "metadata": {
      "needs_background": "light"
     },
     "output_type": "display_data"
    }
   ],
   "source": [
    "plt.figure(figsize=(18, 18))\n",
    "plt.plot(avg_epoch_train_losses, label=\"avg epoch training loss\")\n",
    "plt.plot(avg_epoch_val_losses, label=\"avg epoch validation loss\")\n",
    "plt.legend()\n",
    "plt.show()"
   ]
  },
  {
   "cell_type": "code",
   "execution_count": null,
   "metadata": {},
   "outputs": [],
   "source": [
    "plt.plot(train_losses, label=\"Training loss\")\n",
    "plt.plot(val_losses, label=\"Validation loss\")\n",
    "plt.legend()\n",
    "plt.show()"
   ]
  },
  {
   "cell_type": "code",
   "execution_count": 23,
   "metadata": {},
   "outputs": [],
   "source": [
    "#x, y = Variable(train_x), Variable(train_y, requires_grad=False)\n",
    "\n",
    "#pred = model(x)\n",
    "\n",
    "#final_pred = np.argmax(pred.data.numpy(), axis=1)\n",
    "\n",
    "#accuracy_score(train_y, final_pred)"
   ]
  },
  {
   "cell_type": "code",
   "execution_count": 24,
   "metadata": {},
   "outputs": [],
   "source": [
    "#PATH = './my_first_model_1_with_1_conv_layers_1_fc_lapyer_maximal_smple.pth'\n",
    "#torch.save(model.state_dict(), PATH)"
   ]
  },
  {
   "cell_type": "code",
   "execution_count": 20,
   "metadata": {},
   "outputs": [],
   "source": [
    "dataiter = iter(valid_dl)\n",
    "images, labels = dataiter.next()"
   ]
  },
  {
   "cell_type": "code",
   "execution_count": 21,
   "metadata": {},
   "outputs": [
    {
     "data": {
      "image/png": "[encoded data removed]",
      "text/plain": [
       "<Figure size 432x288 with 1 Axes>"
      ]
     },
     "metadata": {
      "needs_background": "light"
     },
     "output_type": "display_data"
    }
   ],
   "source": [
    "#print images\n",
    "imshow(torchvision.utils.make_grid(images))\n",
    "#print('GroundTruth: ', ' '.join('%5s' % class_label_map[labels[j]] for j in range(4)))"
   ]
  },
  {
   "cell_type": "code",
   "execution_count": 22,
   "metadata": {},
   "outputs": [],
   "source": [
    "#model0 = NaturalImagesNet()\n",
    "#model0.load_state_dict(torch.load(PATH))"
   ]
  },
  {
   "cell_type": "code",
   "execution_count": 25,
   "metadata": {},
   "outputs": [],
   "source": [
    "images = images.to(device, dtype=torch.float32)"
   ]
  },
  {
   "cell_type": "code",
   "execution_count": 26,
   "metadata": {},
   "outputs": [
    {
     "name": "stdout",
     "output_type": "stream",
     "text": [
      "x.shape after self.conv2(x):  torch.Size([4, 3, 120, 120])\n"
     ]
    }
   ],
   "source": [
    "#outputs = model0(images)\n",
    "outputs = model(images)"
   ]
  },
  {
   "cell_type": "code",
   "execution_count": null,
   "metadata": {},
   "outputs": [],
   "source": [
    "#_, predicted = torch.max(outputs, 1)\n",
    "\n",
    "#print('Predicted: ', ' '.join('%5s' % class_label_map[predicted[j]]\n",
    "#                              for j in range(4)))"
   ]
  },
  {
   "cell_type": "code",
   "execution_count": 78,
   "metadata": {},
   "outputs": [
    {
     "name": "stdout",
     "output_type": "stream",
     "text": [
      "Accuracy of the network on the test images: 10 %\n"
     ]
    }
   ],
   "source": [
    "correct = 0\n",
    "total = 0\n",
    "with torch.no_grad():\n",
    "    for data in test_dl:\n",
    "        images, labels = data\n",
    "        outputs = model(images.to(device, dtype=torch.float32))\n",
    "        _, predicted = torch.max(outputs.data, 1)\n",
    "        total += labels.size(0)\n",
    "        correct += (predicted == labels.to(device)).sum().item()\n",
    "\n",
    "print(\"Accuracy of the network on the test images: %d %%\" % (100 * correct / total))"
   ]
  },
  {
   "cell_type": "code",
   "execution_count": null,
   "metadata": {},
   "outputs": [],
   "source": [
    "class_correct = list(0. for i in range(8))\n",
    "class_total = list(0. for i in range(8))\n",
    "with torch.no_grad():\n",
    "    for data in test_dl:\n",
    "        images, labels = data\n",
    "        labels = labels.to(device)learning_rate = 0.00001\n",
    "        outputs = model(images.to(device, dtype=torch.float32))\n",
    "        _, predicted = torch.max(outputs, 1)\n",
    "        c = (predicted == labels).squeeze()\n",
    "        #for i in range(4):\n",
    "        for i in range(4):\n",
    "            label = labels[i]\n",
    "            class_correct[label] += c[i].item()\n",
    "            class_total[label] += 1\n",
    "\n",
    "\n",
    "for i in range(8):\n",
    "    print('Accuracy of %5s : %2d %%' % (\n",
    "        dataset_info[i][0], 100 * class_correct[i] / class_total[i]))"
   ]
  },
  {
   "cell_type": "code",
   "execution_count": null,
   "metadata": {},
   "outputs": [],
   "source": []
  },
  {
   "cell_type": "code",
   "execution_count": null,
   "metadata": {},
   "outputs": [],
   "source": [
    "Accuracy of flower : 43 %\n",
    "Accuracy of   cat : 55 %\n",
    "Accuracy of   dog : 26 %\n",
    "Accuracy of fruit : 95 %\n",
    "Accuracy of motorbike : 74 %\n",
    "Accuracy of   car : 72 %\n",
    "Accuracy of person : 95 %\n",
    "Accuracy of airplane : 74 %"
   ]
  },
  {
   "cell_type": "code",
   "execution_count": null,
   "metadata": {},
   "outputs": [],
   "source": [
    "Accuracy of flower : 79 %\n",
    "Accuracy of   cat : 50 %\n",
    "Accuracy of   dog : 31 %\n",
    "Accuracy of fruit : 99 %\n",
    "Accuracy of motorbike : 84 %\n",
    "Accuracy of   car : 81 %\n",
    "Accuracy of person : 97 %\n",
    "Accuracy of airplane : 86 %"
   ]
  },
  {
   "cell_type": "code",
   "execution_count": null,
   "metadata": {},
   "outputs": [],
   "source": [
    "With two conv layers conv0 and conv1 without relu0 layer and with fc0 layer\n",
    "Accuracy of flower : 46 %\n",
    "Accuracy of   cat : 38 %\n",
    "Accuracy of   dog : 26 %\n",
    "Accuracy of fruit : 98 %\n",
    "Accuracy of motorbike : 67 %\n",
    "Accuracy of   car : 62 %\n",
    "Accuracy of person : 94 %\n",
    "Accuracy of airplane : 75 %\n",
    "Accuracy of the network on the test images: 65 %"
   ]
  },
  {
   "cell_type": "code",
   "execution_count": null,
   "metadata": {},
   "outputs": [],
   "source": [
    "With one conv and one relu layers and fc_out layer\n",
    "Accuracy of flower : 71 %\n",
    "Accuracy of   cat : 48 %\n",
    "Accuracy of   dog : 35 %\n",
    "Accuracy of fruit : 99 %\n",
    "Accuracy of motorbike : 82 %\n",
    "Accuracy of   car : 76 %\n",
    "Accuracy of person : 97 %\n",
    "Accuracy of airplane : 85 %\n",
    "Accuracy of the network on the test images: 75 %"
   ]
  },
  {
   "cell_type": "code",
   "execution_count": null,
   "metadata": {},
   "outputs": [],
   "source": [
    "Maximal simple network with one conv and one fc layers - conv0 and fc_out\n",
    "Accuracy of flower : 52 %\n",
    "Accuracy of   cat : 46 %\n",
    "Accuracy of   dog : 27 %\n",
    "Accuracy of fruit : 98 %\n",
    "Accuracy of motorbike : 70 %\n",
    "Accuracy of   car : 65 %\n",
    "Accuracy of person : 97 %\n",
    "Accuracy of airplane : 71 %\n",
    "Accuracy of the network on the test images: 67 %"
   ]
  },
  {
   "cell_type": "code",
   "execution_count": null,
   "metadata": {},
   "outputs": [],
   "source": [
    "Maximal simple network with one conv and one fc layers - conv0 and fc_out learning_rate = 0.001 epoch = 12\n",
    "Accuracy of flower : 60 %\n",
    "Accuracy of   cat : 63 %\n",
    "Accuracy of   dog : 22 %\n",
    "Accuracy of fruit : 99 %\n",
    "Accuracy of motorbike : 79 %\n",
    "Accuracy of   car : 75 %\n",
    "Accuracy of person : 98 %\n",
    "Accuracy of airplane : 88 %\n",
    "Accuracy of the network on the test images: 74 %"
   ]
  },
  {
   "cell_type": "code",
   "execution_count": null,
   "metadata": {},
   "outputs": [],
   "source": [
    "Maximal simple network with one conv and one fc layers - conv0 and fc_out learning_rate = 0.001 epoch = 36\n",
    "Accuracy of flower : 62 %\n",
    "Accuracy of   cat : 64 %\n",
    "Accuracy of   dog : 18 %\n",
    "Accuracy of fruit : 99 %\n",
    "Accuracy of motorbike : 75 %\n",
    "Accuracy of   car : 69 %\n",
    "Accuracy of person : 96 %\n",
    "Accuracy of airplane : 76 %\n",
    "Accuracy of the network on the test images: 72 %"
   ]
  },
  {
   "cell_type": "code",
   "execution_count": null,
   "metadata": {},
   "outputs": [],
   "source": [
    "Maximal simple network with one conv and one fc layers - conv0 and fc_out learning_rate = 0.0009 epoch = 12\n",
    "Accuracy of flower : 45 %\n",
    "Accuracy of   cat : 53 %\n",
    "Accuracy of   dog : 22 %\n",
    "Accuracy of fruit : 96 %\n",
    "Accuracy of motorbike : 73 %\n",
    "Accuracy of   car : 62 %\n",
    "Accuracy of person : 94 %\n",
    "Accuracy of airplane : 78 %\n",
    "Accuracy of the network on the test images: 67 %"
   ]
  },
  {
   "cell_type": "code",
   "execution_count": null,
   "metadata": {},
   "outputs": [],
   "source": [
    "Maximal simple network with one conv and one fc layers - conv0 and fc_out learning_rate = 0.001 epoch = 12\n",
    "Accuracy of flower : 57 %\n",
    "Accuracy of   cat : 50 %\n",
    "Accuracy of   dog : 21 %\n",
    "Accuracy of fruit : 99 %\n",
    "Accuracy of motorbike : 68 %\n",
    "Accuracy of   car : 70 %\n",
    "Accuracy of person : 96 %\n",
    "Accuracy of airplane : 66 %\n",
    "Accuracy of the network on the test images: 68 %"
   ]
  }
 ],
 "metadata": {
  "kernelspec": {
   "display_name": "Python 3",
   "language": "python",
   "name": "python3"
  },
  "language_info": {
   "codemirror_mode": {
    "name": "ipython",
    "version": 3
   },
   "file_extension": ".py",
   "mimetype": "text/x-python",
   "name": "python",
   "nbconvert_exporter": "python",
   "pygments_lexer": "ipython3",
   "version": "3.7.5"
  }
 },
 "nbformat": 4,
 "nbformat_minor": 2
}
