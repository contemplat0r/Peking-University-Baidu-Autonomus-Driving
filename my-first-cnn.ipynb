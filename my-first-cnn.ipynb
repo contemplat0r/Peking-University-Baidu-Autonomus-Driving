{
 "cells": [
  {
   "cell_type": "code",
   "execution_count": 2,
   "metadata": {},
   "outputs": [],
   "source": [
    "import importlib\n",
    "import math\n",
    "import time\n",
    "\n",
    "import numpy as np\n",
    "import pandas as pd\n",
    "\n",
    "import skimage\n",
    "from skimage.io import imread\n",
    "from skimage import color\n",
    "from skimage.transform import rescale, resize, downscale_local_mean\n",
    "\n",
    "from sklearn.model_selection import train_test_split\n",
    "from sklearn.metrics import accuracy_score\n",
    "\n",
    "import matplotlib.pyplot as plt\n",
    "\n",
    "import torch\n",
    "import torchvision\n",
    "from torch import nn\n",
    "from torch.autograd import Variable\n",
    "import torch.nn.functional as F\n",
    "from torch.nn import Linear, ReLU, CrossEntropyLoss, Sequential, Conv2d\n",
    "from torch.optim import Adam\n",
    "from torch.utils import data\n",
    "\n",
    "import natural_images_dataset_loader\n",
    "from natural_images_dataset_loader import get_class_label_map, NaturalImagesDataset"
   ]
  },
  {
   "cell_type": "code",
   "execution_count": 3,
   "metadata": {},
   "outputs": [],
   "source": [
    "importlib.reload(natural_images_dataset_loader)\n",
    "from natural_images_dataset_loader import get_class_label_map, NaturalImagesDataset"
   ]
  },
  {
   "cell_type": "code",
   "execution_count": 4,
   "metadata": {},
   "outputs": [],
   "source": [
    "%matplotlib inline"
   ]
  },
  {
   "cell_type": "code",
   "execution_count": 5,
   "metadata": {},
   "outputs": [],
   "source": [
    "class NaturalImagesNet(nn.Module):\n",
    "    \n",
    "    def __init__(self, in_channels, classes_num):\n",
    "        super(NaturalImagesNet, self).__init__()\n",
    "        self.in_channels = in_channels\n",
    "        self.conv0 = Conv2d(in_channels=in_channels, out_channels=in_channels, kernel_size=3, stride=1, padding=0)\n",
    "        self.fc_out = Linear(62 * 62 * in_channels, classes_num)\n",
    "        \n",
    "    def forward(self, x):\n",
    "        #print(\"forward: x.shape before conv0(x)\", x.shape)\n",
    "        x = self.conv0(x)\n",
    "        #print(\"forward: x.shape after conv0(x)\", x.shape)\n",
    "        x = x.view(-1, 62 * 62 * self.in_channels)\n",
    "        x = self.fc_out(x)\n",
    "        #x = F.log_softmax(x, dim=1)\n",
    "        x = F.log_softmax(x)\n",
    "        #print(\"forward, x after log_softmax:\\n\", x)\n",
    "        return x"
   ]
  },
  {
   "cell_type": "code",
   "execution_count": 6,
   "metadata": {},
   "outputs": [],
   "source": [
    "params = {'batch_size': 4, 'shuffle': True}\n",
    "class_label_map = get_class_label_map('../input/natural-images/natural_images/*')\n",
    "\n",
    "ni_ds_train = NaturalImagesDataset(class_label_map, resize_sizes=(64, 64))\n",
    "ni_train_dataloader = data.DataLoader(ni_ds_train, **params)\n",
    "\n",
    "ni_ds_valid = NaturalImagesDataset(class_label_map, valid=True, resize_sizes=(64, 64))\n",
    "ni_valid_loader = data.DataLoader(ni_ds_valid, **params)"
   ]
  },
  {
   "cell_type": "code",
   "execution_count": 7,
   "metadata": {},
   "outputs": [],
   "source": [
    "classes_num = len(class_label_map)"
   ]
  },
  {
   "cell_type": "code",
   "execution_count": 8,
   "metadata": {},
   "outputs": [],
   "source": [
    "input_channels = 3"
   ]
  },
  {
   "cell_type": "code",
   "execution_count": 9,
   "metadata": {},
   "outputs": [],
   "source": [
    "learning_rate = 0.001"
   ]
  },
  {
   "cell_type": "code",
   "execution_count": 10,
   "metadata": {},
   "outputs": [],
   "source": [
    "#img, label = next(iter(ni_train_dataloader))"
   ]
  },
  {
   "cell_type": "code",
   "execution_count": 11,
   "metadata": {},
   "outputs": [],
   "source": [
    "#type(img)\n",
    "#img.shape"
   ]
  },
  {
   "cell_type": "code",
   "execution_count": 12,
   "metadata": {},
   "outputs": [],
   "source": [
    "device = torch.device(\"cuda:0\" if torch.cuda.is_available() else \"cpu\")"
   ]
  },
  {
   "cell_type": "code",
   "execution_count": 13,
   "metadata": {},
   "outputs": [
    {
     "name": "stdout",
     "output_type": "stream",
     "text": [
      "device:  cuda:0\n"
     ]
    }
   ],
   "source": [
    "print(\"device: \", device)"
   ]
  },
  {
   "cell_type": "code",
   "execution_count": 14,
   "metadata": {},
   "outputs": [],
   "source": [
    "model = NaturalImagesNet(input_channels, classes_num)\n",
    "#model = NaturalImagesNet()"
   ]
  },
  {
   "cell_type": "code",
   "execution_count": 15,
   "metadata": {},
   "outputs": [
    {
     "data": {
      "text/plain": [
       "NaturalImagesNet(\n",
       "  (conv0): Conv2d(3, 3, kernel_size=(3, 3), stride=(1, 1))\n",
       "  (fc_out): Linear(in_features=11532, out_features=8, bias=True)\n",
       ")"
      ]
     },
     "execution_count": 15,
     "metadata": {},
     "output_type": "execute_result"
    }
   ],
   "source": [
    "model.to(device)"
   ]
  },
  {
   "cell_type": "code",
   "execution_count": 16,
   "metadata": {},
   "outputs": [],
   "source": [
    "criterion = CrossEntropyLoss()"
   ]
  },
  {
   "cell_type": "code",
   "execution_count": 17,
   "metadata": {},
   "outputs": [],
   "source": [
    "optimizer = Adam(model.parameters(), lr=learning_rate)"
   ]
  },
  {
   "cell_type": "code",
   "execution_count": 18,
   "metadata": {},
   "outputs": [
    {
     "name": "stdout",
     "output_type": "stream",
     "text": [
      "epoch: 0, batch: 199 train running loss: 13.018030294030904\n",
      "epoch: 0, batch: 399 train running loss: 9.668589228577911\n",
      "epoch: 0, batch: 599 train running loss: 9.097947082668544\n",
      "epoch: 0, batch: 799 train running loss: 8.742700273543596\n",
      "epoch: 0, batch: 999 train running loss: 8.99667785060592\n",
      "epoch: 0, batch: 1199 train running loss: 8.521547665516845\n",
      "epoch: 0, batch: 199 val running loss: 8.689105697558261\n",
      "epoch: 0, batch: 399 val running loss: 8.707737605599686\n",
      "epoch: 1, batch: 199 train running loss: 6.162851472490002\n",
      "epoch: 1, batch: 399 train running loss: 6.1693248702795245\n",
      "epoch: 1, batch: 599 train running loss: 6.287840422289446\n",
      "epoch: 1, batch: 799 train running loss: 6.372056180343497\n",
      "epoch: 1, batch: 999 train running loss: 6.4124604530836224\n",
      "epoch: 1, batch: 1199 train running loss: 7.5177836692892015\n",
      "epoch 1, avg train cost: 836.2734985351562\n",
      "epoch: 1, batch: 199 val running loss: 9.204033853206784\n",
      "epoch: 1, batch: 399 val running loss: 8.546893475204707\n",
      "epoch 1, avg val cost: 0.00076908094342798\n",
      "epoch: 2, batch: 199 train running loss: 4.560836308993021\n",
      "epoch: 2, batch: 399 train running loss: 4.144273694363074\n",
      "epoch: 2, batch: 599 train running loss: 4.421372730121948\n",
      "epoch: 2, batch: 799 train running loss: 5.6951889257936275\n",
      "epoch: 2, batch: 999 train running loss: 5.7082808134771765\n",
      "epoch: 2, batch: 1199 train running loss: 5.2082619515626\n",
      "epoch: 2, batch: 199 val running loss: 10.1791878946824\n",
      "epoch: 2, batch: 399 val running loss: 10.62979266706659\n",
      "epoch: 3, batch: 199 train running loss: 4.0331373919048925\n",
      "epoch: 3, batch: 399 train running loss: 3.5000475538341562\n",
      "epoch: 3, batch: 599 train running loss: 3.6735483507916795\n",
      "epoch: 3, batch: 799 train running loss: 3.3109358744812196\n",
      "epoch: 3, batch: 999 train running loss: 4.65934695474134\n",
      "epoch: 3, batch: 1199 train running loss: 4.430140184931043\n",
      "epoch 3, avg train cost: 512.6661987304688\n",
      "epoch: 3, batch: 199 val running loss: 9.422918158984976\n",
      "epoch: 3, batch: 399 val running loss: 10.234056403115392\n",
      "epoch 3, avg val cost: 1.3316590785980225\n",
      "epoch: 4, batch: 199 train running loss: 2.5035845098434946\n",
      "epoch: 4, batch: 399 train running loss: 2.914691240906541\n",
      "epoch: 4, batch: 599 train running loss: 3.1079914253554306\n",
      "epoch: 4, batch: 799 train running loss: 3.261130891001085\n",
      "epoch: 4, batch: 999 train running loss: 2.9216771486753714\n",
      "epoch: 4, batch: 1199 train running loss: 3.9496230628632474\n",
      "epoch: 4, batch: 199 val running loss: 11.492505127352251\n",
      "epoch: 4, batch: 399 val running loss: 11.19455836078123\n",
      "epoch: 5, batch: 199 train running loss: 1.879731945085041\n",
      "epoch: 5, batch: 399 train running loss: 2.1059141769075724\n",
      "epoch: 5, batch: 599 train running loss: 2.5423959767080304\n",
      "epoch: 5, batch: 799 train running loss: 2.9210681271926546\n",
      "epoch: 5, batch: 999 train running loss: 2.812478426704183\n",
      "epoch: 5, batch: 1199 train running loss: 2.88593142546888\n",
      "epoch 5, avg train cost: 328.9922790527344\n",
      "epoch: 5, batch: 199 val running loss: 10.814265026550402\n",
      "epoch: 5, batch: 399 val running loss: 12.908785289344086\n",
      "epoch 5, avg val cost: 0.5174825191497803\n",
      "epoch: 6, batch: 199 train running loss: 1.6619727886914006\n",
      "epoch: 6, batch: 399 train running loss: 1.4232675749144845\n",
      "epoch: 6, batch: 599 train running loss: 1.6679094966507357\n",
      "epoch: 6, batch: 799 train running loss: 1.8340202690867955\n",
      "epoch: 6, batch: 999 train running loss: 2.5350785833537204\n",
      "epoch: 6, batch: 1199 train running loss: 2.697454709884687\n",
      "epoch: 6, batch: 199 val running loss: 15.808259099450117\n",
      "epoch: 6, batch: 399 val running loss: 16.540423544730963\n",
      "epoch: 7, batch: 199 train running loss: 1.288380879443065\n",
      "epoch: 7, batch: 399 train running loss: 1.5531867005209279\n",
      "epoch: 7, batch: 599 train running loss: 1.52151864855432\n",
      "epoch: 7, batch: 799 train running loss: 1.7208794410638462\n",
      "epoch: 7, batch: 999 train running loss: 2.251052958391824\n",
      "epoch: 7, batch: 1199 train running loss: 1.8378622290638305\n",
      "epoch 7, avg train cost: 229.44961547851562\n",
      "epoch: 7, batch: 199 val running loss: 17.142638465781054\n",
      "epoch: 7, batch: 399 val running loss: 16.601227652584203\n",
      "epoch 7, avg val cost: 0.5310828685760498\n",
      "epoch: 8, batch: 199 train running loss: 1.5030988773806597\n",
      "epoch: 8, batch: 399 train running loss: 1.060453312372902\n",
      "epoch: 8, batch: 599 train running loss: 1.3660393304369052\n",
      "epoch: 8, batch: 799 train running loss: 1.4302024446260473\n",
      "epoch: 8, batch: 999 train running loss: 1.6065599148215255\n",
      "epoch: 8, batch: 1199 train running loss: 1.9824602389045822\n",
      "epoch: 8, batch: 199 val running loss: 15.511393848711668\n",
      "epoch: 8, batch: 399 val running loss: 16.408291207256116\n",
      "epoch: 9, batch: 199 train running loss: 0.7820420435683445\n",
      "epoch: 9, batch: 399 train running loss: 0.9947800198827735\n",
      "epoch: 9, batch: 599 train running loss: 0.970260267355053\n",
      "epoch: 9, batch: 799 train running loss: 0.7091690566982719\n",
      "epoch: 9, batch: 999 train running loss: 1.3707238745211114\n",
      "epoch: 9, batch: 1199 train running loss: 1.6211699212139223\n",
      "epoch 9, avg train cost: 146.4630126953125\n",
      "epoch: 9, batch: 199 val running loss: 19.087973829797775\n",
      "epoch: 9, batch: 399 val running loss: 17.13093667837194\n",
      "epoch 9, avg val cost: 0.0005398723296821117\n",
      "epoch: 10, batch: 199 train running loss: 0.7387027273747435\n",
      "epoch: 10, batch: 399 train running loss: 0.9590603832811198\n",
      "epoch: 10, batch: 599 train running loss: 0.8861688582377922\n",
      "epoch: 10, batch: 799 train running loss: 1.211544444605488\n",
      "epoch: 10, batch: 999 train running loss: 1.0827589799836628\n",
      "epoch: 10, batch: 1199 train running loss: 1.4679798841011347\n",
      "epoch: 10, batch: 199 val running loss: 18.43953750620471\n",
      "epoch: 10, batch: 399 val running loss: 18.419791720050853\n",
      "epoch: 11, batch: 199 train running loss: 0.3376564100025007\n",
      "epoch: 11, batch: 399 train running loss: 0.4723601071928897\n",
      "epoch: 11, batch: 599 train running loss: 0.831672901928124\n",
      "epoch: 11, batch: 799 train running loss: 1.3533081478263504\n",
      "epoch: 11, batch: 999 train running loss: 0.8049137986401093\n",
      "epoch: 11, batch: 1199 train running loss: 1.559006868998574\n",
      "epoch 11, avg train cost: 119.00689697265625\n",
      "epoch: 11, batch: 199 val running loss: 19.52769661528464\n",
      "epoch: 11, batch: 399 val running loss: 19.039927173970646\n",
      "epoch 11, avg val cost: 0.014007353223860264\n",
      "Finished Training\n"
     ]
    },
    {
     "ename": "NameError",
     "evalue": "name 'since' is not defined",
     "output_type": "error",
     "traceback": [
      "\u001b[0;31m---------------------------------------------------------------------------\u001b[0m",
      "\u001b[0;31mNameError\u001b[0m                                 Traceback (most recent call last)",
      "\u001b[0;32m<ipython-input-18-85f4862d7d0f>\u001b[0m in \u001b[0;36m<module>\u001b[0;34m\u001b[0m\n\u001b[1;32m     71\u001b[0m \u001b[0;34m\u001b[0m\u001b[0m\n\u001b[1;32m     72\u001b[0m \u001b[0mprint\u001b[0m\u001b[0;34m(\u001b[0m\u001b[0;34m'Finished Training'\u001b[0m\u001b[0;34m)\u001b[0m\u001b[0;34m\u001b[0m\u001b[0;34m\u001b[0m\u001b[0m\n\u001b[0;32m---> 73\u001b[0;31m \u001b[0mtime_elapsed\u001b[0m \u001b[0;34m=\u001b[0m \u001b[0mtime\u001b[0m\u001b[0;34m.\u001b[0m\u001b[0mtime\u001b[0m\u001b[0;34m(\u001b[0m\u001b[0;34m)\u001b[0m \u001b[0;34m-\u001b[0m \u001b[0msince\u001b[0m\u001b[0;34m\u001b[0m\u001b[0;34m\u001b[0m\u001b[0m\n\u001b[0m\u001b[1;32m     74\u001b[0m print(\n\u001b[1;32m     75\u001b[0m     'Training complete in {:.0f}m {:.0f}s'.format(\n",
      "\u001b[0;31mNameError\u001b[0m: name 'since' is not defined"
     ]
    }
   ],
   "source": [
    "num_of_epoch = 12\n",
    "\n",
    "train_losses = []\n",
    "val_losses = []\n",
    "\n",
    "start_time = time.time()\n",
    "\n",
    "for epoch in range(num_of_epoch):\n",
    "    # loop over the dataset multiple times\n",
    "    \n",
    "    avg_train_cost = 0\n",
    "    avg_val_cost = 0\n",
    "    \n",
    "    train_running_loss = 0.0\n",
    "    val_running_loss = 0.0\n",
    "    \n",
    "    for i, data in enumerate(ni_train_dataloader, 0):\n",
    "        # get the inputs; data is a list of [inputs, labels]\n",
    "        inputs, labels = data\n",
    "        inputs, labels = inputs.to(device, dtype=torch.float32), labels.to(device, dtype=torch.long)\n",
    "\n",
    "        # zero the parameter gradients\n",
    "        optimizer.zero_grad()\n",
    "\n",
    "        # forward + backward + optimize\n",
    "        outputs = model(inputs)\n",
    "\n",
    "        loss = criterion(outputs, labels)\n",
    "        \n",
    "        train_losses.append(loss)\n",
    "        \n",
    "        loss.backward()\n",
    "        optimizer.step()\n",
    "\n",
    "        # print statistics\n",
    "        train_running_loss += loss.item()\n",
    "        \n",
    "        if i % 200 == 199:    # print every 2000 mini-batches\n",
    "            print(\"epoch: {}, batch: {} train running loss: {}\".format(epoch, i, train_running_loss / 20))\n",
    "            train_running_loss = 0.0\n",
    "            \n",
    "        avg_train_cost = avg_train_cost + loss.data\n",
    "                \n",
    "    if epoch % 2 != 0:\n",
    "        print(\"epoch {}, avg train cost: {}\".format(epoch, avg_train_cost))\n",
    "        avg_train_cost = 0\n",
    "        \n",
    "    model.eval()\n",
    "    with torch.no_grad():\n",
    "        for i, data in enumerate(ni_valid_loader, 0):\n",
    "            # get the inputs; data is a list of [inputs, labels]\n",
    "            inputs, labels = data\n",
    "            inputs, labels = inputs.to(device, dtype=torch.float32), labels.to(device, dtype=torch.long)\n",
    "                \n",
    "            outputs = model(inputs)\n",
    "                \n",
    "            val_loss = criterion(outputs, labels)\n",
    "            val_losses.append(val_loss)\n",
    "                \n",
    "            val_running_loss += val_loss.item()\n",
    "                \n",
    "            if i % 200 == 199:    # print every 2000 mini-batches\n",
    "                print(\"epoch: {}, batch: {} val running loss: {}\".format(epoch, i, val_running_loss / 20))\n",
    "                val_running_loss = 0.0\n",
    "                \n",
    "        avg_val_cost = avg_val_cost + loss.data\n",
    "                \n",
    "        if epoch % 2 != 0:\n",
    "            print(\"epoch {}, avg val cost: {}\".format(epoch, avg_val_cost))\n",
    "            avg_val_cost = 0\n",
    "\n",
    "\n",
    "\n",
    "print('Finished Training')\n",
    "time_elapsed = time.time() - start_time\n",
    "print(\n",
    "    'Training complete in {:.0f}m {:.0f}s'.format(\n",
    "        time_elapsed // 60, time_elapsed % 60\n",
    "    )\n",
    ")"
   ]
  },
  {
   "cell_type": "code",
   "execution_count": 19,
   "metadata": {},
   "outputs": [
    {
     "data": {
      "image/png": "[encoded data removed]",
      "text/plain": [
       "<Figure size 432x288 with 1 Axes>"
      ]
     },
     "metadata": {
      "needs_background": "light"
     },
     "output_type": "display_data"
    }
   ],
   "source": [
    "plt.plot(train_losses, label=\"Training loss\")\n",
    "plt.plot(val_losses, label=\"Validation loss\")#x = self.relu(x)\n",
    "plt.legend()\n",
    "plt.show()"
   ]
  },
  {
   "cell_type": "code",
   "execution_count": null,
   "metadata": {},
   "outputs": [],
   "source": [
    "x, y = Variable(train_x), Variable(train_y, requires_grad=False)\n",
    "\n",
    "pred = model(x)\n",
    "\n",
    "final_pred = np.argmax(pred.data.numpy(), axis=1)\n",
    "\n",
    "accuracy_score(train_y, final_pred)"
   ]
  },
  {
   "cell_type": "code",
   "execution_count": null,
   "metadata": {},
   "outputs": [],
   "source": [
    "PATH = './cifar_net.pth'\n",
    "torch.save(net.state_dict(), PATH)"
   ]
  },
  {
   "cell_type": "code",
   "execution_count": null,
   "metadata": {},
   "outputs": [],
   "source": [
    "dataiter = iter(testloader)\n",
    "images, labels = dataiter.next()\n",
    "\n",
    "# print images\n",
    "imshow(torchvision.utils.make_grid(images))\n",
    "print('GroundTruth: ', ' '.join('%5s' % classes[labels[j]] for j in range(4)))"
   ]
  },
  {
   "cell_type": "code",
   "execution_count": null,
   "metadata": {},
   "outputs": [],
   "source": [
    "net = Net()\n",
    "net.load_state_dict(torch.load(PATH))"
   ]
  },
  {
   "cell_type": "code",
   "execution_count": null,
   "metadata": {},
   "outputs": [],
   "source": [
    "outputs = net(images)"
   ]
  },
  {
   "cell_type": "code",
   "execution_count": null,
   "metadata": {},
   "outputs": [],
   "source": [
    "_, predicted = torch.max(outputs, 1)\n",
    "\n",
    "print('Predicted: ', ' '.join('%5s' % classes[predicted[j]]\n",
    "                              for j in range(4)))"
   ]
  },
  {
   "cell_type": "code",
   "execution_count": null,
   "metadata": {},
   "outputs": [],
   "source": [
    "correct = 0\n",
    "total = 0\n",
    "with torch.no_grad():\n",
    "    for data in testloader:\n",
    "        images, labels = data\n",
    "        outputs = net(images)\n",
    "        _, predicted = torch.max(outputs.data, 1)\n",
    "        total += labels.size(0)\n",
    "        correct += (predicted == labels).sum().item()\n",
    "\n",
    "print('Accuracy of the network on the 10000 test images: %d %%' % (\n",
    "    100 * correct / total))"
   ]
  },
  {
   "cell_type": "code",
   "execution_count": null,
   "metadata": {},
   "outputs": [],
   "source": [
    "class_correct = list(0. for i in range(10))\n",
    "class_total = list(0. for i in range(10))\n",
    "with torch.no_grad():\n",
    "    for data in testloader:\n",
    "        images, labels = data\n",
    "        outputs = net(images)\n",
    "        _, predicted = torch.max(outputs, 1)\n",
    "        c = (predicted == labels).squeeze()\n",
    "        for i in range(4):\n",
    "            label = labels[i]\n",
    "            class_correct[label] += c[i].item()\n",
    "            class_total[label] += 1\n",
    "\n",
    "\n",
    "for i in range(10):\n",
    "    print('Accuracy of %5s : %2d %%' % (\n",
    "        classes[i], 100 * class_correct[i] / class_total[i]))"
   ]
  },
  {
   "cell_type": "code",
   "execution_count": null,
   "metadata": {},
   "outputs": [],
   "source": []
  }
 ],
 "metadata": {
  "kernelspec": {
   "display_name": "Python 3",
   "language": "python",
   "name": "python3"
  },
  "language_info": {
   "codemirror_mode": {
    "name": "ipython",
    "version": 3
   },
   "file_extension": ".py",
   "mimetype": "text/x-python",
   "name": "python",
   "nbconvert_exporter": "python",
   "pygments_lexer": "ipython3",
   "version": "3.7.5"
  }
 },
 "nbformat": 4,
 "nbformat_minor": 2
}
