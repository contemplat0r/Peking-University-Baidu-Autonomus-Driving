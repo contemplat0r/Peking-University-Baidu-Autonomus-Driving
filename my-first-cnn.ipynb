{
 "cells": [
  {
   "cell_type": "code",
   "execution_count": 1,
   "metadata": {},
   "outputs": [],
   "source": [
    "import importlib\n",
    "import math\n",
    "import time\n",
    "\n",
    "import numpy as np\n",
    "import pandas as pd\n",
    "\n",
    "import skimage\n",
    "from skimage.io import imread\n",
    "from skimage import color\n",
    "from skimage.transform import rescale, resize, downscale_local_mean\n",
    "\n",
    "from sklearn.model_selection import train_test_split\n",
    "from sklearn.metrics import accuracy_score\n",
    "\n",
    "import matplotlib.pyplot as plt\n",
    "\n",
    "import torch\n",
    "import torchvision\n",
    "from torch import nn\n",
    "from torch.autograd import Variable\n",
    "import torch.nn.functional as F\n",
    "from torch.nn import Linear, ReLU, CrossEntropyLoss, Sequential, Conv2d\n",
    "from torch.optim import Adam\n",
    "from torch.utils import data\n",
    "\n",
    "import natural_images_dataset_loader\n",
    "from natural_images_dataset_loader import get_dataset_info, get_files_label_map, make_loaders"
   ]
  },
  {
   "cell_type": "code",
   "execution_count": 2,
   "metadata": {},
   "outputs": [],
   "source": [
    "importlib.reload(natural_images_dataset_loader)\n",
    "from natural_images_dataset_loader import get_class_label_map, NaturalImagesDataset"
   ]
  },
  {
   "cell_type": "code",
   "execution_count": 3,
   "metadata": {},
   "outputs": [],
   "source": [
    "%matplotlib inline"
   ]
  },
  {
   "cell_type": "code",
   "execution_count": 4,
   "metadata": {},
   "outputs": [],
   "source": [
    "def imshow(img):\n",
    "    img = img / 2 + 0.5     # unnormalize\n",
    "    npimg = img.numpy()\n",
    "    plt.imshow(np.transpose(npimg, (1, 2, 0)))\n",
    "    plt.show()"
   ]
  },
  {
   "cell_type": "code",
   "execution_count": 5,
   "metadata": {},
   "outputs": [],
   "source": [
    "class NaturalImagesNet(nn.Module):\n",
    "    \n",
    "    def __init__(self, in_channels, classes_num):\n",
    "        super(NaturalImagesNet, self).__init__()\n",
    "        self.in_channels = in_channels\n",
    "        self.conv0 = Conv2d(in_channels=in_channels, out_channels=in_channels, kernel_size=3, stride=1, padding=0)\n",
    "        self.fc_out = Linear(62 * 62 * in_channels, classes_num)\n",
    "        \n",
    "    def forward(self, x):\n",
    "        #print(\"forward: x.shape before conv0(x)\", x.shape)\n",
    "        x = self.conv0(x)\n",
    "        #print(\"forward: x.shape after conv0(x)\", x.shape)\n",
    "        x = x.view(-1, 62 * 62 * self.in_channels)\n",
    "        x = self.fc_out(x)\n",
    "        #x = F.log_softmax(x, dim=1)\n",
    "        x = F.log_softmax(x)\n",
    "        #print(\"forward, x after log_softmax:\\n\", x)\n",
    "        return x"
   ]
  },
  {
   "cell_type": "markdown",
   "metadata": {},
   "source": [
    "params = {'batch_size': 4, 'shuffle': True}\n",
    "class_label_map = get_class_label_map('../input/natural-images/natural_images/*')\n",
    "\n",
    "ni_ds_train = NaturalImagesDataset(class_label_map, resize_sizes=(64, 64))\n",
    "ni_train_dataloader = data.DataLoader(ni_ds_train, **params)\n",
    "\n",
    "ni_ds_valid = NaturalImagesDataset(class_label_map, valid=True, resize_sizes=(64, 64))\n",
    "ni_valid_loader = data.DataLoader(ni_ds_valid, **params)"
   ]
  },
  {
   "cell_type": "code",
   "execution_count": 6,
   "metadata": {},
   "outputs": [
    {
     "name": "stdout",
     "output_type": "stream",
     "text": [
      "len(dataset_info): 8\n",
      "type(dataset_info[0][2]):  <class 'tuple'>\n",
      "dataset_info[0][2][:10]:  ('../input/natural-images/natural_images/flower/flower_0277.jpg', '../input/natural-images/natural_images/flower/flower_0147.jpg', '../input/natural-images/natural_images/flower/flower_0558.jpg', '../input/natural-images/natural_images/flower/flower_0192.jpg', '../input/natural-images/natural_images/flower/flower_0547.jpg', '../input/natural-images/natural_images/flower/flower_0307.jpg', '../input/natural-images/natural_images/flower/flower_0661.jpg', '../input/natural-images/natural_images/flower/flower_0119.jpg', '../input/natural-images/natural_images/flower/flower_0467.jpg', '../input/natural-images/natural_images/flower/flower_0744.jpg')\n",
      "((2, '../input/natural-images/natural_images/dog/dog_0395.jpg'), (2, '../input/natural-images/natural_images/dog/dog_0382.jpg'), (2, '../input/natural-images/natural_images/dog/dog_0127.jpg'), (2, '../input/natural-images/natural_images/dog/dog_0018.jpg'), (2, '../input/natural-images/natural_images/dog/dog_0635.jpg'), (2, '../input/natural-images/natural_images/dog/dog_0476.jpg'), (2, '../input/natural-images/natural_images/dog/dog_0392.jpg'), (2, '../input/natural-images/natural_images/dog/dog_0538.jpg'), (2, '../input/natural-images/natural_images/dog/dog_0295.jpg'), (2, '../input/natural-images/natural_images/dog/dog_0153.jpg'), (2, '../input/natural-images/natural_images/dog/dog_0322.jpg'), (2, '../input/natural-images/natural_images/dog/dog_0176.jpg'), (2, '../input/natural-images/natural_images/dog/dog_0015.jpg'), (2, '../input/natural-images/natural_images/dog/dog_0248.jpg'), (2, '../input/natural-images/natural_images/dog/dog_0436.jpg'), (2, '../input/natural-images/natural_images/dog/dog_0188.jpg'), (2, '../input/natural-images/natural_images/dog/dog_0119.jpg'), (2, '../input/natural-images/natural_images/dog/dog_0162.jpg'), (2, '../input/natural-images/natural_images/dog/dog_0164.jpg'), (2, '../input/natural-images/natural_images/dog/dog_0500.jpg'))\n",
      "<class 'torch.utils.data.dataloader.DataLoader'> <class 'torch.utils.data.dataloader.DataLoader'> <class 'torch.utils.data.dataloader.DataLoader'>\n"
     ]
    }
   ],
   "source": [
    "dataset_info = get_dataset_info('../input/natural-images/natural_images/*')\n",
    "print(\"len(dataset_info):\", len(dataset_info))\n",
    "print(\"type(dataset_info[0][2]): \", type(dataset_info[0][2]))\n",
    "print(\"dataset_info[0][2][:10]: \", dataset_info[0][2][:10])\n",
    "files_label_map = get_files_label_map(dataset_info)\n",
    "print(get_files_label_map(dataset_info)[2000:2020])\n",
    "#print(type(make_loaders(files_label_map)))\n",
    "train_dl, valid_dl, test_dl = make_loaders(files_label_map, train_test_split_ratio=0.25, train_valid_split_ratio=0.25)\n",
    "print(type(train_dl), type(valid_dl), type(test_dl))"
   ]
  },
  {
   "cell_type": "code",
   "execution_count": 7,
   "metadata": {},
   "outputs": [
    {
     "name": "stdout",
     "output_type": "stream",
     "text": [
      "8\n"
     ]
    }
   ],
   "source": [
    "classes_num = len(dataset_info)\n",
    "print(classes_num)"
   ]
  },
  {
   "cell_type": "code",
   "execution_count": 8,
   "metadata": {},
   "outputs": [],
   "source": [
    "input_channels = 3"
   ]
  },
  {
   "cell_type": "code",
   "execution_count": 9,
   "metadata": {},
   "outputs": [],
   "source": [
    "learning_rate = 0.001"
   ]
  },
  {
   "cell_type": "code",
   "execution_count": 10,
   "metadata": {},
   "outputs": [],
   "source": [
    "#img, label = next(iter(ni_train_dataloader))\n",
    "img, label = next(iter(train_dl))"
   ]
  },
  {
   "cell_type": "code",
   "execution_count": 11,
   "metadata": {},
   "outputs": [],
   "source": [
    "#type(img)\n",
    "#img.shape"
   ]
  },
  {
   "cell_type": "code",
   "execution_count": 12,
   "metadata": {},
   "outputs": [],
   "source": [
    "device = torch.device(\"cuda:0\" if torch.cuda.is_available() else \"cpu\")"
   ]
  },
  {
   "cell_type": "code",
   "execution_count": 13,
   "metadata": {},
   "outputs": [
    {
     "name": "stdout",
     "output_type": "stream",
     "text": [
      "device:  cuda:0\n"
     ]
    }
   ],
   "source": [
    "print(\"device: \", device)"
   ]
  },
  {
   "cell_type": "code",
   "execution_count": 14,
   "metadata": {},
   "outputs": [],
   "source": [
    "model = NaturalImagesNet(input_channels, classes_num)\n",
    "#model = NaturalImagesNet()"
   ]
  },
  {
   "cell_type": "code",
   "execution_count": 15,
   "metadata": {},
   "outputs": [
    {
     "data": {
      "text/plain": [
       "NaturalImagesNet(\n",
       "  (conv0): Conv2d(3, 3, kernel_size=(3, 3), stride=(1, 1))\n",
       "  (fc_out): Linear(in_features=11532, out_features=8, bias=True)\n",
       ")"
      ]
     },
     "execution_count": 15,
     "metadata": {},
     "output_type": "execute_result"
    }
   ],
   "source": [
    "model.to(device)"
   ]
  },
  {
   "cell_type": "code",
   "execution_count": 16,
   "metadata": {},
   "outputs": [],
   "source": [
    "criterion = CrossEntropyLoss()"
   ]
  },
  {
   "cell_type": "code",
   "execution_count": 17,
   "metadata": {},
   "outputs": [],
   "source": [
    "optimizer = Adam(model.parameters(), lr=learning_rate)"
   ]
  },
  {
   "cell_type": "code",
   "execution_count": 18,
   "metadata": {},
   "outputs": [
    {
     "name": "stdout",
     "output_type": "stream",
     "text": [
      "epoch: 0, batch: 199 val running loss: 8.25109983375296\n",
      "epoch 1, avg train cost: 581.1498413085938\n",
      "epoch: 1, batch: 199 val running loss: 7.611188189126551\n",
      "epoch 1, avg val cost: 0.5392724871635437\n",
      "epoch: 2, batch: 199 val running loss: 8.718194404691895\n",
      "epoch 3, avg train cost: 332.9964599609375\n",
      "epoch: 3, batch: 199 val running loss: 9.080866298441833\n",
      "epoch 3, avg val cost: 0.0012516385177150369\n",
      "epoch: 4, batch: 199 val running loss: 10.391372814483475\n",
      "epoch 5, avg train cost: 204.4183349609375\n",
      "epoch: 5, batch: 199 val running loss: 12.295701019959688\n",
      "epoch 5, avg val cost: 0.007456340827047825\n",
      "epoch: 6, batch: 199 val running loss: 13.75370041369024\n",
      "epoch 7, avg train cost: 121.35403442382812\n",
      "epoch: 7, batch: 199 val running loss: 13.645935749349155\n",
      "epoch 7, avg val cost: 0.2282264232635498\n",
      "epoch: 8, batch: 199 val running loss: 14.697957228961366\n",
      "epoch 9, avg train cost: 107.80260467529297\n",
      "epoch: 9, batch: 199 val running loss: 15.837656136369151\n",
      "epoch 9, avg val cost: 0.27585312724113464\n",
      "epoch: 10, batch: 199 val running loss: 15.976453538016631\n",
      "epoch 11, avg train cost: 52.978092193603516\n",
      "epoch: 11, batch: 199 val running loss: 21.958954194723674\n",
      "epoch 11, avg val cost: 0.7886407375335693\n",
      "Finished Training\n",
      "Training complete in 13m 18s\n"
     ]
    }
   ],
   "source": [
    "num_of_epoch = 12\n",
    "\n",
    "train_losses = []\n",
    "val_losses = []\n",
    "\n",
    "start_time = time.time()\n",
    "\n",
    "epoch_train_losses = []\n",
    "epoch_val_losses = []\n",
    "\n",
    "for epoch in range(num_of_epoch):\n",
    "    # loop over the dataset multiple times\n",
    "    \n",
    "    avg_train_cost = 0\n",
    "    avg_val_cost = 0\n",
    "    \n",
    "    train_running_loss = 0.0\n",
    "    val_running_loss = 0.0\n",
    "    \n",
    "    one_epoch_train_losses = []\n",
    "    one_epoch_val_losses = []\n",
    "    for i, data in enumerate(train_dl, 0):\n",
    "        # get the inputs; data is a list of [inputs, labels]\n",
    "        inputs, labels = data\n",
    "        inputs, labels = inputs.to(device, dtype=torch.float32), labels.to(device, dtype=torch.long)\n",
    "\n",
    "        # zero the parameter gradients\n",
    "        optimizer.zero_grad()\n",
    "\n",
    "        # forward + backward + optimize\n",
    "        outputs = model(inputs)\n",
    "\n",
    "        loss = criterion(outputs, labels)\n",
    "        \n",
    "        train_losses.append(loss)\n",
    "        \n",
    "        one_epoch_train_losses.append(loss)\n",
    "        \n",
    "        loss.backward()\n",
    "        optimizer.step()\n",
    "\n",
    "        # print statistics\n",
    "        train_running_loss += loss.item()\n",
    "        \n",
    "        if i % 2000 == 1999:    # print every 2000 mini-batches\n",
    "            print(\"epoch: {}, batch: {} train running loss: {}\".format(epoch, i, train_running_loss / 20))\n",
    "            train_running_loss = 0.0\n",
    "            \n",
    "        avg_train_cost = avg_train_cost + loss.data\n",
    "                \n",
    "    if epoch % 2 != 0:\n",
    "        print(\"epoch {}, avg train cost: {}\".format(epoch, avg_train_cost))\n",
    "        avg_train_cost = 0\n",
    "        \n",
    "    model.eval()\n",
    "    with torch.no_grad():\n",
    "        for i, data in enumerate(valid_dl, 0):\n",
    "            # get the inputs; data is a list of [inputs, labels]\n",
    "            inputs, labels = data\n",
    "            inputs, labels = inputs.to(device, dtype=torch.float32), labels.to(device, dtype=torch.long)\n",
    "                \n",
    "            outputs = model(inputs)\n",
    "                \n",
    "            val_loss = criterion(outputs, labels)\n",
    "            val_losses.append(val_loss)\n",
    "            one_epoch_val_losses.append(val_loss)\n",
    "            val_running_loss += val_loss.item()\n",
    "                \n",
    "            if i % 2000 == 1999:    # print every 2000 mini-batches\n",
    "                print(\"epoch: {}, batch: {} val running loss: {}\".format(epoch, i, val_running_loss / 20))\n",
    "                val_running_loss = 0.0\n",
    "                \n",
    "        avg_val_cost = avg_val_cost + loss.data\n",
    "                \n",
    "        if epoch % 2 != 0:\n",
    "            print(\"epoch {}, avg val cost: {}\".format(epoch, avg_val_cost))\n",
    "            avg_val_cost = 0\n",
    "\n",
    "    epoch_train_losses.append(one_epoch_train_losses)\n",
    "    epoch_val_losses.append(one_epoch_val_losses)\n",
    "\n",
    "    \n",
    "avg_epoch_train_losses = [\n",
    "    sum(one_epoch_train_loss) / len(one_epoch_train_loss) for one_epoch_train_loss in epoch_train_losses\n",
    "]\n",
    "avg_epoch_val_losses = [\n",
    "    sum(one_epoch_val_loss) / len(one_epoch_val_loss) for one_epoch_train_loss in epoch_val_losses\n",
    "]\n",
    "\n",
    "print('Finished Training')\n",
    "time_elapsed = time.time() - start_time\n",
    "print(\n",
    "    'Training complete in {:.0f}m {:.0f}s'.format(\n",
    "        time_elapsed // 60, time_elapsed % 60\n",
    "    )\n",
    ")"
   ]
  },
  {
   "cell_type": "code",
   "execution_count": 19,
   "metadata": {},
   "outputs": [
    {
     "data": {
      "image/png": "[encoded data removed]",
      "text/plain": [
       "<Figure size 432x288 with 1 Axes>"
      ]
     },
     "metadata": {
      "needs_background": "light"
     },
     "output_type": "display_data"
    }
   ],
   "source": [
    "plt.figure(figsize=(18, 18))\n",
    "plt.plot(avg_epoch_train_losses, label=\"avg epoch training loss\")\n",
    "plt.plot(val_losses, label=\"avg epoch validation loss\")#x = self.relu(x)\n",
    "plt.legend()\n",
    "plt.show()"
   ]
  },
  {
   "cell_type": "code",
   "execution_count": null,
   "metadata": {},
   "outputs": [],
   "source": [
    "plt.plot(train_losses, label=\"Training loss\")\n",
    "plt.plot(val_losses, label=\"Validation loss\")#x = self.relu(x)\n",
    "plt.legend()\n",
    "plt.show()"
   ]
  },
  {
   "cell_type": "code",
   "execution_count": null,
   "metadata": {},
   "outputs": [],
   "source": [
    "#x, y = Variable(train_x), Variable(train_y, requires_grad=False)\n",
    "\n",
    "#pred = model(x)\n",
    "\n",
    "#final_pred = np.argmax(pred.data.numpy(), axis=1)\n",
    "\n",
    "#accuracy_score(train_y, final_pred)"
   ]
  },
  {
   "cell_type": "code",
   "execution_count": 20,
   "metadata": {},
   "outputs": [],
   "source": [
    "PATH = './my_first_model_1.pth'\n",
    "torch.save(model.state_dict(), PATH)"
   ]
  },
  {
   "cell_type": "code",
   "execution_count": 22,
   "metadata": {},
   "outputs": [],
   "source": [
    "dataiter = iter(valid_dl)\n",
    "images, labels = dataiter.next()"
   ]
  },
  {
   "cell_type": "code",
   "execution_count": 23,
   "metadata": {},
   "outputs": [
    {
     "data": {
      "image/png": "[encoded data removed]",
      "text/plain": [
       "<Figure size 432x288 with 1 Axes>"
      ]
     },
     "metadata": {
      "needs_background": "light"
     },
     "output_type": "display_data"
    }
   ],
   "source": [
    "#print images\n",
    "imshow(torchvision.utils.make_grid(images))\n",
    "#print('GroundTruth: ', ' '.join('%5s' % class_label_map[labels[j]] for j in range(4)))"
   ]
  },
  {
   "cell_type": "code",
   "execution_count": 24,
   "metadata": {},
   "outputs": [],
   "source": [
    "#model0 = NaturalImagesNet()\n",
    "#model0.load_state_dict(torch.load(PATH))"
   ]
  },
  {
   "cell_type": "code",
   "execution_count": 25,
   "metadata": {},
   "outputs": [],
   "source": [
    "images = images.to(device, dtype=torch.float32)"
   ]
  },
  {
   "cell_type": "code",
   "execution_count": 26,
   "metadata": {},
   "outputs": [],
   "source": [
    "#outputs = model0(images)\n",
    "outputs = model(images)"
   ]
  },
  {
   "cell_type": "code",
   "execution_count": 27,
   "metadata": {},
   "outputs": [],
   "source": [
    "#_, predicted = torch.max(outputs, 1)\n",
    "\n",
    "#print('Predicted: ', ' '.join('%5s' % class_label_map[predicted[j]]\n",
    "#                              for j in range(4)))"
   ]
  },
  {
   "cell_type": "code",
   "execution_count": 28,
   "metadata": {},
   "outputs": [
    {
     "name": "stdout",
     "output_type": "stream",
     "text": [
      "Accuracy of the network on the 10000 test images: 67 %\n"
     ]
    }
   ],
   "source": [
    "correct = 0\n",
    "total = 0\n",
    "with torch.no_grad():\n",
    "    for data in test_dl:\n",
    "        images, labels = data\n",
    "        outputs = model(images.to(device, dtype=torch.float32))\n",
    "        _, predicted = torch.max(outputs.data, 1)\n",
    "        total += labels.size(0)\n",
    "        correct += (predicted == labels.to(device)).sum().item()\n",
    "\n",
    "print(\"Accuracy of the network on the test images: %d %%\" % (100 * correct / total))"
   ]
  },
  {
   "cell_type": "code",
   "execution_count": 32,
   "metadata": {},
   "outputs": [
    {
     "name": "stdout",
     "output_type": "stream",
     "text": [
      "Accuracy of flower : 41 %\n",
      "Accuracy of   cat : 44 %\n",
      "Accuracy of   dog : 37 %\n",
      "Accuracy of fruit : 97 %\n",
      "Accuracy of motorbike : 76 %\n",
      "Accuracy of   car : 64 %\n",
      "Accuracy of person : 93 %\n",
      "Accuracy of airplane : 75 %\n"
     ]
    }
   ],
   "source": [
    "class_correct = list(0. for i in range(10))\n",
    "class_total = list(0. for i in range(10))\n",
    "with torch.no_grad():\n",
    "    for data in test_dl:\n",
    "        images, labels = data\n",
    "        labels = labels.to(device)\n",
    "        outputs = model(images.to(device, dtype=torch.float32))\n",
    "        _, predicted = torch.max(outputs, 1)\n",
    "        c = (predicted == labels).squeeze()\n",
    "        #for i in range(4):\n",
    "        for i in range(4):\n",
    "            label = labels[i]\n",
    "            class_correct[label] += c[i].item()\n",
    "            class_total[label] += 1\n",
    "\n",
    "\n",
    "for i in range(8):\n",
    "    print('Accuracy of %5s : %2d %%' % (\n",
    "        dataset_info[i][0], 100 * class_correct[i] / class_total[i]))"
   ]
  },
  {
   "cell_type": "code",
   "execution_count": null,
   "metadata": {},
   "outputs": [],
   "source": []
  }
 ],
 "metadata": {
  "kernelspec": {
   "display_name": "Python 3",
   "language": "python",
   "name": "python3"
  },
  "language_info": {
   "codemirror_mode": {
    "name": "ipython",
    "version": 3
   },
   "file_extension": ".py",
   "mimetype": "text/x-python",
   "name": "python",
   "nbconvert_exporter": "python",
   "pygments_lexer": "ipython3",
   "version": "3.7.5"
  }
 },
 "nbformat": 4,
 "nbformat_minor": 2
}
